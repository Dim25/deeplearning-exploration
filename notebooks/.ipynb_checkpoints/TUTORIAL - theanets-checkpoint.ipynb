{
 "cells": [
  {
   "cell_type": "markdown",
   "metadata": {},
   "source": [
    "## Theanets\n",
    "- [main site](http://theanets.readthedocs.org/en/stable/quickstart.html)\n",
    "- [git repository](https://github.com/lmjohns3/theanets)\n",
    "\n",
    "The library implementation and its documents are both elegant and detailed. Please read the online tutorial by [Leif Johnson](http://lmjohns3.com/) if you need to learn the package. I will just try to put some notes here from my learning experience"
   ]
  },
  {
   "cell_type": "code",
   "execution_count": 1,
   "metadata": {
    "collapsed": false
   },
   "outputs": [
    {
     "name": "stdout",
     "output_type": "stream",
     "text": [
      "Couldn't import dot_parser, loading of dot files will not be possible.\n"
     ]
    }
   ],
   "source": [
    "import theanets"
   ]
  },
  {
   "cell_type": "markdown",
   "metadata": {},
   "source": [
    "### main steps in typical workflow\n",
    "1. Create a Network Layout\n",
    "2. Train the Network on Data\n",
    "3. Use the network to make prediction\n",
    "\n",
    "Typical Usage of the above steps is (http://theanets.readthedocs.org/en/stable/index.html)\n",
    "```python\n",
    "import climate\n",
    "import theanets\n",
    "import my_data_set\n",
    "\n",
    "climate.enable_default_logging()\n",
    "\n",
    "exp = theanets.Experiment(\n",
    "    theanets.Classifier,\n",
    "    layers=(100, 200, 100, 10),\n",
    ")\n",
    "\n",
    "exp.train(\n",
    "    my_data_set.training_data,\n",
    "    my_data_set.validation_data,\n",
    "    optimize='sgd',\n",
    "    learning_rate=0.01,\n",
    "    momentum=0.5,\n",
    "    hidden_l1=0.1,\n",
    ")\n",
    "\n",
    "exp.network.predict(my_data_set.test_data)\n",
    "```"
   ]
  },
  {
   "cell_type": "markdown",
   "metadata": {},
   "source": [
    "### Examples of Classifying MNIST"
   ]
  },
  {
   "cell_type": "code",
   "execution_count": 10,
   "metadata": {
    "collapsed": false
   },
   "outputs": [],
   "source": [
    "import cPickle\n",
    "import numpy as np\n",
    "(train_X, train_y), (valid_X, valid_y), (test_X, test_y) = cPickle.load(open(\"../data/mnist.pkl\"))\n",
    "train_mnist = (train_X, train_y.astype(np.int32))\n",
    "valid_mnist = (valid_X, valid_y.astype(np.int32))\n",
    "test_mnist = (test_X, test_y.astype(np.int32))"
   ]
  },
  {
   "cell_type": "code",
   "execution_count": 11,
   "metadata": {
    "collapsed": false
   },
   "outputs": [
    {
     "data": {
      "text/plain": [
       "(OrderedDict([('loss', 0.015071146355932832), ('err', 0.015071146355932832), ('hid1<0.1', 29.975463554987211), ('hid1<0.9', 74.4084878516624), ('out<0.1', 89.699288682864449), ('out<0.9', 90.355258951406654), ('acc', 99.882113171355499)]),\n",
       " OrderedDict([('loss', 0.071864711106876547), ('err', 0.071864711106876547), ('hid1<0.1', 29.720242834394906), ('hid1<0.9', 74.721138535031841), ('out<0.1', 89.459593949044589), ('out<0.9', 90.538415605095537), ('acc', 97.770700636942678)]))"
      ]
     },
     "execution_count": 11,
     "metadata": {},
     "output_type": "execute_result"
    }
   ],
   "source": [
    "\n",
    "## you can stop it at anytime!! \n",
    "exp = theanets.Experiment(theanets.Classifier, layers = (28*28, 100, 10))\n",
    "%time exp.train(train_mnist, valid_mnist, optimize = \"sgd\", learning_rate = 0.01)"
   ]
  },
  {
   "cell_type": "code",
   "execution_count": 17,
   "metadata": {
    "collapsed": false
   },
   "outputs": [
    {
     "data": {
      "text/plain": [
       "0.97829999999999995"
      ]
     },
     "execution_count": 17,
     "metadata": {},
     "output_type": "execute_result"
    }
   ],
   "source": [
    "model = exp.network\n",
    "np.mean(np.argmax(model.predict(test_X), axis = 1) == test_y)"
   ]
  },
  {
   "cell_type": "code",
   "execution_count": null,
   "metadata": {
    "collapsed": true
   },
   "outputs": [],
   "source": []
  }
 ],
 "metadata": {
  "kernelspec": {
   "display_name": "Python 2",
   "language": "python",
   "name": "python2"
  },
  "language_info": {
   "codemirror_mode": {
    "name": "ipython",
    "version": 2
   },
   "file_extension": ".py",
   "mimetype": "text/x-python",
   "name": "python",
   "nbconvert_exporter": "python",
   "pygments_lexer": "ipython2",
   "version": "2.7.6"
  }
 },
 "nbformat": 4,
 "nbformat_minor": 0
}
