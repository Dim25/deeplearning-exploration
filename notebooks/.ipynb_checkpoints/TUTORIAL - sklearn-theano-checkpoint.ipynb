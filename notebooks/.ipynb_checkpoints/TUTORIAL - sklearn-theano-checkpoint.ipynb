{
 "cells": [
  {
   "cell_type": "markdown",
   "metadata": {},
   "source": [
    "## [sklearn-theano](http://sklearn-theano.github.io/install.html)\n",
    "1. sklearn-theano is a [sklearn related projects](http://scikit-learn.org/dev/related_projects.html) that wraps certain deep learning models such as theano-based, overfeat or googleLeNet\n",
    "2. It can be used to extract image features that are related to transformation, localization and classification"
   ]
  },
  {
   "cell_type": "code",
   "execution_count": null,
   "metadata": {
    "collapsed": true
   },
   "outputs": [],
   "source": []
  }
 ],
 "metadata": {
  "kernelspec": {
   "display_name": "Python 2",
   "language": "python",
   "name": "python2"
  },
  "language_info": {
   "codemirror_mode": {
    "name": "ipython",
    "version": 2
   },
   "file_extension": ".py",
   "mimetype": "text/x-python",
   "name": "python",
   "nbconvert_exporter": "python",
   "pygments_lexer": "ipython2",
   "version": "2.7.6"
  }
 },
 "nbformat": 4,
 "nbformat_minor": 0
}
