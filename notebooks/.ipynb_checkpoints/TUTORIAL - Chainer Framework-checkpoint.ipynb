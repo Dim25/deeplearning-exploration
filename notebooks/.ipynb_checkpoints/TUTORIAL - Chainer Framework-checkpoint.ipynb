{
 "cells": [
  {
   "cell_type": "markdown",
   "metadata": {},
   "source": [
    "## [Chainer Deep Learning Framework](http://chainer.org/)\n",
    "\n",
    "- It doesn't seem to support mulit-core cpu ..."
   ]
  },
  {
   "cell_type": "code",
   "execution_count": 1,
   "metadata": {
    "collapsed": true
   },
   "outputs": [],
   "source": [
    "import numpy as np\n",
    "from chainer import Variable, FunctionSet\n",
    "from chainer import functions, optimizers"
   ]
  },
  {
   "cell_type": "code",
   "execution_count": 2,
   "metadata": {
    "collapsed": false
   },
   "outputs": [
    {
     "name": "stdout",
     "output_type": "stream",
     "text": [
      "(50000, 784) (50000,) (10000, 784) (10000,) (10000, 784) (10000,)\n"
     ]
    }
   ],
   "source": [
    "import cPickle\n",
    "(train_X, train_y), (valid_X, valid_y), (test_X, test_y) = cPickle.load(open(\"../data/mnist.pkl\"))\n",
    "print train_X.shape, train_y.shape, valid_X.shape, valid_y.shape, test_X.shape, test_y.shape"
   ]
  },
  {
   "cell_type": "markdown",
   "metadata": {},
   "source": [
    "### Fundamentals \n",
    "- Much like in theano, the \"minions\" in chainer are `Variable`s, which are wrappers of numpy.ndarray (so far only float32 supported due to cuda limit).\n",
    "- forward/backward computation of `Variable`s\n",
    "    - forward computation results can be retrived from `data` memeber of `Variable`\n",
    "    - the variables record both its data and its \"computation network\"\n",
    "    - backword computation happends by calling `backward()` on a variable, and the result is in `grad` member\n",
    "- parameterized functions\n",
    "    - ***Most functions in chainer accept mini-batch input, which are matrices of shape (N, d), where N is the batchs ize, and d is the input dimension of input vectors***\n",
    "    - most of them are defined in `functions` module, and can be extended by inheritating `Function` class in chainer\n",
    "    - it provides a way to calulate the gradient w.r.t to parameters (instead of just inputs)\n",
    "    - the parameters in those functions are fixed by names, e.g., `f.W` or `f.b`, and their gradients are `f.gW` and `f.gb`\n",
    "    - steps of calculating parameter gradients: see code below for details\n",
    "- `FunctionSet` as neural networks - it is essentially a set of functions, which wraps up all parameters and their gradients in an interface that can be used with an optimzier. As a *benefit*, the parameters of the model can be automatically updated within one call."
   ]
  },
  {
   "cell_type": "code",
   "execution_count": 3,
   "metadata": {
    "collapsed": false
   },
   "outputs": [
    {
     "name": "stdout",
     "output_type": "stream",
     "text": [
      "forward computation of y\n",
      "[[  4.   9.  16.]\n",
      " [ 25.  36.  49.]]\n",
      "gradient of x w.r.t y\n",
      "[[  4.   6.   8.]\n",
      " [ 10.  12.  14.]]\n"
     ]
    }
   ],
   "source": [
    "## forward and backward caclulation of variables (including vectors)\n",
    "\n",
    "\n",
    "x = Variable(np.array([[1, 2, 3], [4, 5, 6]], dtype = np.float32))\n",
    "y = x**2 + 2*x + 1\n",
    "print \"forward computation of y\"\n",
    "print y.data\n",
    "## ITS NECESSARY TO INITIALIZZE the OUTPUT graident for vector data\n",
    "y.grad = np.ones((2, 3), dtype = np.float32)\n",
    "y.backward()\n",
    "print \"gradient of x w.r.t y\"\n",
    "print x.grad"
   ]
  },
  {
   "cell_type": "code",
   "execution_count": 4,
   "metadata": {
    "collapsed": false
   },
   "outputs": [
    {
     "name": "stdout",
     "output_type": "stream",
     "text": [
      "initialized parameters\n",
      "[[-0.38723999 -0.42784363 -0.77418971]\n",
      " [-0.16656621  0.7822451  -0.05404196]]\n",
      "[ 0.  0.]\n",
      "[[-3.56549644  1.23579812]\n",
      " [-8.3333168   2.92070913]]\n",
      "[[ 5.  7.  9.]\n",
      " [ 5.  7.  9.]]\n",
      "[ 2.  2.]\n"
     ]
    }
   ],
   "source": [
    "## parameterized functions - forward and backward\n",
    "\n",
    "\n",
    "f = functions.Linear(3, 2) ## inputsize = 3, outputsize = 2\n",
    "## parameters W, b are initalized in specific way\n",
    "print \"initialized parameters\"\n",
    "print f.W\n",
    "print f.b\n",
    "## forward\n",
    "y = f(x)\n",
    "print y.data\n",
    "## backward, w.r.t parameters\n",
    "y.grad = np.ones(y.data.shape, dtype = np.float32)\n",
    "f.gW.fill(0)\n",
    "f.gb.fill(0)\n",
    "y.backward()\n",
    "print f.gW\n",
    "print f.gb"
   ]
  },
  {
   "cell_type": "code",
   "execution_count": 5,
   "metadata": {
    "collapsed": false
   },
   "outputs": [
    {
     "name": "stdout",
     "output_type": "stream",
     "text": [
      "[[ 1.93210864 -0.59107018]\n",
      " [ 4.9927206  -1.47177756]]\n"
     ]
    }
   ],
   "source": [
    "## set of functions - wrapping parameters in a unified interface with optimizers\n",
    "\n",
    "model = FunctionSet(\n",
    "    l1 = functions.Linear(4, 3),\n",
    "    l2 = functions.Linear(3, 2)\n",
    ")\n",
    "## layers starting from l1, ...\n",
    "model.l3 = functions.Linear(2, 2)\n",
    "## design matrix representing minibatch data\n",
    "x = Variable(np.array([[1, 2, 3, 4], [5, 6, 7, 8]], dtype = np.float32))\n",
    "## forward calculation, layer by layer\n",
    "h1 = model.l1(x)\n",
    "h2 = model.l2(h1)\n",
    "y = model.l3(h2)\n",
    "print y.data"
   ]
  },
  {
   "cell_type": "code",
   "execution_count": 6,
   "metadata": {
    "collapsed": false
   },
   "outputs": [],
   "source": [
    "## model working with optimizers\n",
    "\n",
    "## connect with parameters\n",
    "optimizer = optimizers.SGD()\n",
    "optimizer.setup(model.collect_parameters())\n",
    "## zeroize every gradients via optimizer now\n",
    "optimizer.zero_grads()"
   ]
  },
  {
   "cell_type": "markdown",
   "metadata": {},
   "source": [
    "### MLP \n",
    "\n",
    "mlp with three hidden layers by ReLU activations, working on mnist classification\n",
    "\n",
    "- same logic as with theano - wrapper objects (minions) around numpy/cuda array, which supports backpropagation via dependency network; as well as a set of functions that can be applied to those objects\n",
    "- richer support for build-in functions\n",
    "- a model is a chain of parameterized functions, and everythign, including inputs, outputs and parameters are chainer variables. optimizers decide the way of using those gradients."
   ]
  },
  {
   "cell_type": "code",
   "execution_count": null,
   "metadata": {
    "collapsed": true
   },
   "outputs": [],
   "source": []
  },
  {
   "cell_type": "code",
   "execution_count": 7,
   "metadata": {
    "collapsed": false
   },
   "outputs": [
    {
     "name": "stdout",
     "output_type": "stream",
     "text": [
      "lapack_opt_info:\n",
      "    libraries = ['openblas', 'openblas']\n",
      "    library_dirs = ['/usr/local/lib']\n",
      "    define_macros = [('HAVE_CBLAS', None)]\n",
      "    language = c\n",
      "    runtime_library_dirs = ['/usr/local/lib']\n",
      "blas_opt_info:\n",
      "    libraries = ['openblas', 'openblas']\n",
      "    library_dirs = ['/usr/local/lib']\n",
      "    define_macros = [('HAVE_CBLAS', None)]\n",
      "    language = c\n",
      "    runtime_library_dirs = ['/usr/local/lib']\n",
      "openblas_info:\n",
      "    libraries = ['openblas', 'openblas']\n",
      "    library_dirs = ['/usr/local/lib']\n",
      "    define_macros = [('HAVE_CBLAS', None)]\n",
      "    language = c\n",
      "    runtime_library_dirs = ['/usr/local/lib']\n",
      "openblas_lapack_info:\n",
      "    libraries = ['openblas', 'openblas']\n",
      "    library_dirs = ['/usr/local/lib']\n",
      "    define_macros = [('HAVE_CBLAS', None)]\n",
      "    language = c\n",
      "    runtime_library_dirs = ['/usr/local/lib']\n",
      "blas_mkl_info:\n",
      "  NOT AVAILABLE\n"
     ]
    }
   ],
   "source": [
    "import numpy\n",
    "numpy.show_config()"
   ]
  },
  {
   "cell_type": "code",
   "execution_count": 16,
   "metadata": {
    "collapsed": false
   },
   "outputs": [
    {
     "name": "stdout",
     "output_type": "stream",
     "text": [
      "env: OMP_NUM_THREADS=1\n"
     ]
    }
   ],
   "source": [
    "#%env OMP_NUM_THREADS=1"
   ]
  },
  {
   "cell_type": "code",
   "execution_count": 18,
   "metadata": {
    "collapsed": false
   },
   "outputs": [
    {
     "name": "stdout",
     "output_type": "stream",
     "text": [
      "epoch 0 train accuracy 0.8248, validation accuracy 0.8487\n",
      "epoch 5 train accuracy 0.91334, validation accuracy 0.9194\n",
      "accuracy on test data 0.919799983501\n"
     ]
    }
   ],
   "source": [
    "from sklearn import utils\n",
    "\n",
    "nunits = 128\n",
    "\n",
    "## 1. define the arthitecuter of model\n",
    "model = FunctionSet(\n",
    "      l1 = functions.Linear(784, nunits) # 784 input, 100 hidden\n",
    "    , l2 = functions.Linear(nunits, nunits) # another layer of 100 hidden\n",
    "    , l3 = functions.Linear(nunits, 10) # 10 output - recommended to be always linear\n",
    ")\n",
    "\n",
    "\n",
    "## 2. you need to do the forward calculation manually, as a price of being flexible\n",
    "## Note activation is not part of model in chainer, as they dont have any params\n",
    "def forward(model, x_data, y_data, train = True):\n",
    "    \"\"\"\n",
    "    x_data, y_data: numpy array (or cuda array), design matrix format\n",
    "    \"\"\"\n",
    "    x = Variable(x_data.astype(np.float32))\n",
    "    t = Variable(y_data.astype(np.int32))\n",
    "    h1 = functions.leaky_relu(model.l1(x)) # no way of iterating all layers??\n",
    "    h2 = functions.leaky_relu(model.l2(h1))\n",
    "    y = model.l3(h2)\n",
    "    #print y.data.dtype, t.data.dtype\n",
    "    cost = functions.softmax_cross_entropy(y, t)\n",
    "    return cost, functions.accuracy(y, t) ## both cost and accuracy work on SCORE of class\n",
    "\n",
    "## 3. set an optimizer\n",
    "opt= optimizers.SGD()#optimizers.Adam()#\n",
    "opt.setup(model.collect_parameters())\n",
    "\n",
    "## 4. learning loop with (1) forward cal, (2) backward cal, and (3) optimizer's update\n",
    "batch_size = 100\n",
    "for epoch in xrange(6):\n",
    "    index = utils.shuffle(xrange(train_X.shape[0]))\n",
    "    for b in xrange(0, train_X.shape[0], batch_size):\n",
    "        batchx, batchy = train_X[b:b+batch_size, :], train_y[b:b+batch_size]\n",
    "        ## forward calculation\n",
    "        cost, acc = forward(model, batchx, batchy)\n",
    "        ## backward calculation\n",
    "        opt.zero_grads() ## preventing accumulating\n",
    "        cost.backward() \n",
    "        ## parameter updates\n",
    "        opt.update()\n",
    "    if (epoch % 5 == 0):\n",
    "        print 'epoch', epoch, \n",
    "        _, train_acc = forward(model, train_X, train_y)\n",
    "        _, valid_acc = forward(model, valid_X, valid_y)\n",
    "        print \"train accuracy %g, validation accuracy %g\" % (train_acc.data, valid_acc.data)\n",
    "    \n",
    "## prediction and test on new data\n",
    "_, test_acc = forward(model, test_X, test_y, train = False)\n",
    "print \"accuracy on test data\", test_acc.data"
   ]
  },
  {
   "cell_type": "code",
   "execution_count": 9,
   "metadata": {
    "collapsed": false
   },
   "outputs": [],
   "source": [
    "x = Variable(test_X)\n",
    "h1 = functions.leaky_relu(model.l1(x))\n",
    "h2 = functions.leaky_relu(model.l2(h1))\n",
    "y = model.l3(h2)"
   ]
  },
  {
   "cell_type": "markdown",
   "metadata": {},
   "source": [
    "### Recurrent NN\n",
    "\n",
    "Recurrent NN for variable length sequential modelling\n",
    "\n",
    "text frrom [\"a whiting and a snail\" from \"Alice in wonder land\"](http://www.durrant.co.uk/alice/)"
   ]
  },
  {
   "cell_type": "code",
   "execution_count": 10,
   "metadata": {
    "collapsed": false
   },
   "outputs": [
    {
     "name": "stdout",
     "output_type": "stream",
     "text": [
      "57 9150\n"
     ]
    }
   ],
   "source": [
    "text = r\"\"\"‘Will you walk a little faster?’ said a whiting to a snail. ‘There’s a porpoise close behind us, and he’s treading on my tail. See how eagerly the lobsters and the turtles all advance! They are waiting on the shingle - will you come and join the dance? Will you, won’t you, will you, won’t you, will you join the dance? Will you, won’t you, will you, won’t you, won’t you join the dance?\n",
    "‘You can really have no notion how delightful it will be When they take us up and throw us, with the lobsters, out to sea!’ But the snail replied ‘Too far, too far!’ and gave a look askance - Said he thanked the whiting kindly, but he would not join the dance. Would not, could not, would not, could not, would not join the dance. Would not, could not, would not, could not, could not join the dance.\n",
    "‘What matters it how far we go?’ his scaly friend replied. ‘There is another shore, you know, upon the other side. The further off from England the nearer is to France - Then turn not pale, beloved snail, but come and join the dance. Will you, won’t you, will you, won’t you, will you join the dance? Will you, won’t you, will you, won’t you, won’t you join the dance?’\n",
    "\"\"\"\n",
    "\n",
    "text = r\"\"\"Mary had a little lamb,\n",
    "Little lamb, little lamb,\n",
    "Mary had a little lamb,\n",
    "Its fleece was white as snow\n",
    "\n",
    "And everywhere that Mary went,\n",
    "Mary went, Mary went,\n",
    "Everywhere that Mary went\n",
    "The lamb was sure to go\n",
    "\n",
    "It followed her to school one day\n",
    "School one day, school one day\n",
    "It followed her to school one day\n",
    "Which was against the rules.\n",
    "\n",
    "It made the children laugh and play,\n",
    "Laugh and play, laugh and play,\n",
    "It made the children laugh and play\n",
    "To see a lamb at school\n",
    "\n",
    "And so the teacher turned it out,\n",
    "Turned it out, turned it out,\n",
    "And so the teacher turned it out,\n",
    "But still it lingered near\n",
    "\n",
    "And waited patiently about,\n",
    "Patiently about, patiently about,\n",
    "And waited patiently about\n",
    "Till Mary did appear\n",
    "\n",
    "\"Why does the lamb love Mary so?\"\n",
    "Love Mary so? Love Mary so?\n",
    "\"Why does the lamb love Mary so?\"\n",
    "The eager children cry\n",
    "\n",
    "\"Why, Mary loves the lamb, you know.\"\n",
    "Loves the lamb, you know, loves the lamb, you know\n",
    "\"Why, Mary loves the lamb, you know.\"\n",
    "The teacher did reply\n",
    "\"\"\"\n",
    "import re \n",
    "pat = re.compile(\"\\w+\")\n",
    "word_seq = [w.lower() for w in pat.findall(text)] * 50\n",
    "voc = np.unique(word_seq)\n",
    "print len(voc), len(word_seq)"
   ]
  },
  {
   "cell_type": "code",
   "execution_count": 11,
   "metadata": {
    "collapsed": false
   },
   "outputs": [],
   "source": [
    "## hashing (words to integers) by murmur hash\n",
    "#import mmh3\n",
    "\n",
    "w2i = dict([(w, i) for i, w in enumerate(voc)])\n",
    "i2w = dict([(i, w) for w, i in w2i.items()])\n",
    "hashed_word_seq = [w2i[w] for w in word_seq]"
   ]
  },
  {
   "cell_type": "code",
   "execution_count": 12,
   "metadata": {
    "collapsed": false
   },
   "outputs": [],
   "source": [
    "model = FunctionSet(\n",
    "    embed = functions.EmbedID(len(voc), 20)\n",
    "    , x_to_h = functions.Linear(20, 50)\n",
    "    , h_to_h = functions.Linear(50, 50)\n",
    "    , h_to_y = functions.Linear(50, len(voc))\n",
    ")\n",
    "\n",
    "def forward_one_step(model, h, cur_word, next_word):\n",
    "    word = Variable(np.array([cur_word], dtype=np.int32))\n",
    "    t = Variable(np.array([next_word], dtype=np.int32))\n",
    "    x = functions.tanh(model.embed(word))\n",
    "    h = functions.tanh(model.x_to_h(x) + model.h_to_h(h))\n",
    "    y = model.h_to_y(h)\n",
    "    cost = functions.softmax_cross_entropy(y, t)\n",
    "    return h, cost, y\n",
    "\n",
    "def forward(model, words):\n",
    "    h = Variable(np.zeros(( 1, 50), dtype = np.float32))\n",
    "    cost = 0\n",
    "    ys = []\n",
    "    for cur_word, next_word in zip(words[:-1], words[1:]):\n",
    "        h, cur_cost, y = forward_one_step(model, h, cur_word, next_word)\n",
    "        cost += cur_cost\n",
    "        ys.append(y.data.argmax())\n",
    "    return cost * 1. / len(words), ys ## averaged softmax cross entropy\n",
    "\n",
    "def predict(model, start_word, nsteps):\n",
    "    h = Variable(np.zeros((1, 50), dtype=np.float32))\n",
    "    word = start_word#Variable(np.array([start_word], dtype=np.int32))\n",
    "    predicted_words = []\n",
    "    for i in xrange(nsteps):\n",
    "        h, _, next_word_var = forward_one_step(model, h, word, word)\n",
    "        next_word = next_word_var.data.argmax()\n",
    "        predicted_words.append(next_word)\n",
    "        word = next_word#Variable(np.array([next_word], dtype=np.int32))\n",
    "    return predicted_words\n",
    "\n"
   ]
  },
  {
   "cell_type": "code",
   "execution_count": 13,
   "metadata": {
    "collapsed": false
   },
   "outputs": [
    {
     "name": "stdout",
     "output_type": "stream",
     "text": [
      "0 4.27738209623\n"
     ]
    },
    {
     "ename": "KeyboardInterrupt",
     "evalue": "",
     "output_type": "error",
     "traceback": [
      "\u001b[1;31m---------------------------------------------------------------------------\u001b[0m",
      "\u001b[1;31mKeyboardInterrupt\u001b[0m                         Traceback (most recent call last)",
      "\u001b[1;32m<ipython-input-13-e510cf34b00c>\u001b[0m in \u001b[0;36m<module>\u001b[1;34m()\u001b[0m\n\u001b[0;32m      5\u001b[0m \u001b[1;32mfor\u001b[0m \u001b[0mepoch\u001b[0m \u001b[1;32min\u001b[0m \u001b[0mxrange\u001b[0m\u001b[1;33m(\u001b[0m\u001b[1;36m50\u001b[0m\u001b[1;33m)\u001b[0m\u001b[1;33m:\u001b[0m\u001b[1;33m\u001b[0m\u001b[0m\n\u001b[0;32m      6\u001b[0m     \u001b[0moptimizer\u001b[0m\u001b[1;33m.\u001b[0m\u001b[0mzero_grads\u001b[0m\u001b[1;33m(\u001b[0m\u001b[1;33m)\u001b[0m\u001b[1;33m\u001b[0m\u001b[0m\n\u001b[1;32m----> 7\u001b[1;33m     \u001b[0mcost\u001b[0m\u001b[1;33m,\u001b[0m \u001b[0mys\u001b[0m \u001b[1;33m=\u001b[0m \u001b[0mforward\u001b[0m\u001b[1;33m(\u001b[0m\u001b[0mmodel\u001b[0m\u001b[1;33m,\u001b[0m \u001b[0mhashed_word_seq\u001b[0m\u001b[1;33m)\u001b[0m\u001b[1;33m\u001b[0m\u001b[0m\n\u001b[0m\u001b[0;32m      8\u001b[0m     \u001b[0mcost\u001b[0m\u001b[1;33m.\u001b[0m\u001b[0mbackward\u001b[0m\u001b[1;33m(\u001b[0m\u001b[1;33m)\u001b[0m\u001b[1;33m\u001b[0m\u001b[0m\n\u001b[0;32m      9\u001b[0m     \u001b[0moptimizer\u001b[0m\u001b[1;33m.\u001b[0m\u001b[0mupdate\u001b[0m\u001b[1;33m(\u001b[0m\u001b[1;33m)\u001b[0m\u001b[1;33m\u001b[0m\u001b[0m\n",
      "\u001b[1;32m<ipython-input-12-7551cba7c76a>\u001b[0m in \u001b[0;36mforward\u001b[1;34m(model, words)\u001b[0m\n\u001b[0;32m     20\u001b[0m     \u001b[0mys\u001b[0m \u001b[1;33m=\u001b[0m \u001b[1;33m[\u001b[0m\u001b[1;33m]\u001b[0m\u001b[1;33m\u001b[0m\u001b[0m\n\u001b[0;32m     21\u001b[0m     \u001b[1;32mfor\u001b[0m \u001b[0mcur_word\u001b[0m\u001b[1;33m,\u001b[0m \u001b[0mnext_word\u001b[0m \u001b[1;32min\u001b[0m \u001b[0mzip\u001b[0m\u001b[1;33m(\u001b[0m\u001b[0mwords\u001b[0m\u001b[1;33m[\u001b[0m\u001b[1;33m:\u001b[0m\u001b[1;33m-\u001b[0m\u001b[1;36m1\u001b[0m\u001b[1;33m]\u001b[0m\u001b[1;33m,\u001b[0m \u001b[0mwords\u001b[0m\u001b[1;33m[\u001b[0m\u001b[1;36m1\u001b[0m\u001b[1;33m:\u001b[0m\u001b[1;33m]\u001b[0m\u001b[1;33m)\u001b[0m\u001b[1;33m:\u001b[0m\u001b[1;33m\u001b[0m\u001b[0m\n\u001b[1;32m---> 22\u001b[1;33m         \u001b[0mh\u001b[0m\u001b[1;33m,\u001b[0m \u001b[0mcur_cost\u001b[0m\u001b[1;33m,\u001b[0m \u001b[0my\u001b[0m \u001b[1;33m=\u001b[0m \u001b[0mforward_one_step\u001b[0m\u001b[1;33m(\u001b[0m\u001b[0mmodel\u001b[0m\u001b[1;33m,\u001b[0m \u001b[0mh\u001b[0m\u001b[1;33m,\u001b[0m \u001b[0mcur_word\u001b[0m\u001b[1;33m,\u001b[0m \u001b[0mnext_word\u001b[0m\u001b[1;33m)\u001b[0m\u001b[1;33m\u001b[0m\u001b[0m\n\u001b[0m\u001b[0;32m     23\u001b[0m         \u001b[0mcost\u001b[0m \u001b[1;33m+=\u001b[0m \u001b[0mcur_cost\u001b[0m\u001b[1;33m\u001b[0m\u001b[0m\n\u001b[0;32m     24\u001b[0m         \u001b[0mys\u001b[0m\u001b[1;33m.\u001b[0m\u001b[0mappend\u001b[0m\u001b[1;33m(\u001b[0m\u001b[0my\u001b[0m\u001b[1;33m.\u001b[0m\u001b[0mdata\u001b[0m\u001b[1;33m.\u001b[0m\u001b[0margmax\u001b[0m\u001b[1;33m(\u001b[0m\u001b[1;33m)\u001b[0m\u001b[1;33m)\u001b[0m\u001b[1;33m\u001b[0m\u001b[0m\n",
      "\u001b[1;32m<ipython-input-12-7551cba7c76a>\u001b[0m in \u001b[0;36mforward_one_step\u001b[1;34m(model, h, cur_word, next_word)\u001b[0m\n\u001b[0;32m     12\u001b[0m     \u001b[0mh\u001b[0m \u001b[1;33m=\u001b[0m \u001b[0mfunctions\u001b[0m\u001b[1;33m.\u001b[0m\u001b[0mtanh\u001b[0m\u001b[1;33m(\u001b[0m\u001b[0mmodel\u001b[0m\u001b[1;33m.\u001b[0m\u001b[0mx_to_h\u001b[0m\u001b[1;33m(\u001b[0m\u001b[0mx\u001b[0m\u001b[1;33m)\u001b[0m \u001b[1;33m+\u001b[0m \u001b[0mmodel\u001b[0m\u001b[1;33m.\u001b[0m\u001b[0mh_to_h\u001b[0m\u001b[1;33m(\u001b[0m\u001b[0mh\u001b[0m\u001b[1;33m)\u001b[0m\u001b[1;33m)\u001b[0m\u001b[1;33m\u001b[0m\u001b[0m\n\u001b[0;32m     13\u001b[0m     \u001b[0my\u001b[0m \u001b[1;33m=\u001b[0m \u001b[0mmodel\u001b[0m\u001b[1;33m.\u001b[0m\u001b[0mh_to_y\u001b[0m\u001b[1;33m(\u001b[0m\u001b[0mh\u001b[0m\u001b[1;33m)\u001b[0m\u001b[1;33m\u001b[0m\u001b[0m\n\u001b[1;32m---> 14\u001b[1;33m     \u001b[0mcost\u001b[0m \u001b[1;33m=\u001b[0m \u001b[0mfunctions\u001b[0m\u001b[1;33m.\u001b[0m\u001b[0msoftmax_cross_entropy\u001b[0m\u001b[1;33m(\u001b[0m\u001b[0my\u001b[0m\u001b[1;33m,\u001b[0m \u001b[0mt\u001b[0m\u001b[1;33m)\u001b[0m\u001b[1;33m\u001b[0m\u001b[0m\n\u001b[0m\u001b[0;32m     15\u001b[0m     \u001b[1;32mreturn\u001b[0m \u001b[0mh\u001b[0m\u001b[1;33m,\u001b[0m \u001b[0mcost\u001b[0m\u001b[1;33m,\u001b[0m \u001b[0my\u001b[0m\u001b[1;33m\u001b[0m\u001b[0m\n\u001b[0;32m     16\u001b[0m \u001b[1;33m\u001b[0m\u001b[0m\n",
      "\u001b[1;32m/usr/local/lib/python2.7/dist-packages/chainer/functions/softmax_cross_entropy.pyc\u001b[0m in \u001b[0;36msoftmax_cross_entropy\u001b[1;34m(x, t, use_cudnn)\u001b[0m\n\u001b[0;32m     91\u001b[0m \u001b[1;33m\u001b[0m\u001b[0m\n\u001b[0;32m     92\u001b[0m     \"\"\"\n\u001b[1;32m---> 93\u001b[1;33m     \u001b[1;32mreturn\u001b[0m \u001b[0mSoftmaxCrossEntropy\u001b[0m\u001b[1;33m(\u001b[0m\u001b[0muse_cudnn\u001b[0m\u001b[1;33m)\u001b[0m\u001b[1;33m(\u001b[0m\u001b[0mx\u001b[0m\u001b[1;33m,\u001b[0m \u001b[0mt\u001b[0m\u001b[1;33m)\u001b[0m\u001b[1;33m\u001b[0m\u001b[0m\n\u001b[0m",
      "\u001b[1;32m/usr/local/lib/python2.7/dist-packages/chainer/function.pyc\u001b[0m in \u001b[0;36m__call__\u001b[1;34m(self, *inputs)\u001b[0m\n\u001b[0;32m    162\u001b[0m \u001b[1;33m\u001b[0m\u001b[0m\n\u001b[0;32m    163\u001b[0m         \u001b[0min_data\u001b[0m \u001b[1;33m=\u001b[0m \u001b[0mtuple\u001b[0m\u001b[1;33m(\u001b[0m\u001b[0mx\u001b[0m\u001b[1;33m.\u001b[0m\u001b[0mdata\u001b[0m \u001b[1;32mfor\u001b[0m \u001b[0mx\u001b[0m \u001b[1;32min\u001b[0m \u001b[0mself\u001b[0m\u001b[1;33m.\u001b[0m\u001b[0minputs\u001b[0m\u001b[1;33m)\u001b[0m\u001b[1;33m\u001b[0m\u001b[0m\n\u001b[1;32m--> 164\u001b[1;33m         \u001b[0mself\u001b[0m\u001b[1;33m.\u001b[0m\u001b[0m_check_data_type_forward\u001b[0m\u001b[1;33m(\u001b[0m\u001b[0min_data\u001b[0m\u001b[1;33m)\u001b[0m\u001b[1;33m\u001b[0m\u001b[0m\n\u001b[0m\u001b[0;32m    165\u001b[0m         \u001b[1;32mwith\u001b[0m \u001b[0mcuda\u001b[0m\u001b[1;33m.\u001b[0m\u001b[0musing_device\u001b[0m\u001b[1;33m(\u001b[0m\u001b[1;33m*\u001b[0m\u001b[0min_data\u001b[0m\u001b[1;33m)\u001b[0m\u001b[1;33m:\u001b[0m\u001b[1;33m\u001b[0m\u001b[0m\n\u001b[0;32m    166\u001b[0m             \u001b[0moutputs\u001b[0m \u001b[1;33m=\u001b[0m \u001b[0mself\u001b[0m\u001b[1;33m.\u001b[0m\u001b[0mforward\u001b[0m\u001b[1;33m(\u001b[0m\u001b[0min_data\u001b[0m\u001b[1;33m)\u001b[0m\u001b[1;33m\u001b[0m\u001b[0m\n",
      "\u001b[1;32m/usr/local/lib/python2.7/dist-packages/chainer/function.pyc\u001b[0m in \u001b[0;36m_check_data_type_forward\u001b[1;34m(self, in_data)\u001b[0m\n\u001b[0;32m    189\u001b[0m     \u001b[1;32mdef\u001b[0m \u001b[0m_check_data_type_forward\u001b[0m\u001b[1;33m(\u001b[0m\u001b[0mself\u001b[0m\u001b[1;33m,\u001b[0m \u001b[0min_data\u001b[0m\u001b[1;33m)\u001b[0m\u001b[1;33m:\u001b[0m\u001b[1;33m\u001b[0m\u001b[0m\n\u001b[0;32m    190\u001b[0m         \u001b[0min_type\u001b[0m \u001b[1;33m=\u001b[0m \u001b[0mtype_check\u001b[0m\u001b[1;33m.\u001b[0m\u001b[0mget_types\u001b[0m\u001b[1;33m(\u001b[0m\u001b[0min_data\u001b[0m\u001b[1;33m,\u001b[0m \u001b[1;34m'in_types'\u001b[0m\u001b[1;33m,\u001b[0m \u001b[0mFalse\u001b[0m\u001b[1;33m)\u001b[0m\u001b[1;33m\u001b[0m\u001b[0m\n\u001b[1;32m--> 191\u001b[1;33m         \u001b[0mself\u001b[0m\u001b[1;33m.\u001b[0m\u001b[0mcheck_type_forward\u001b[0m\u001b[1;33m(\u001b[0m\u001b[0min_type\u001b[0m\u001b[1;33m)\u001b[0m\u001b[1;33m\u001b[0m\u001b[0m\n\u001b[0m\u001b[0;32m    192\u001b[0m \u001b[1;33m\u001b[0m\u001b[0m\n\u001b[0;32m    193\u001b[0m     \u001b[1;32mdef\u001b[0m \u001b[0m_check_data_type_backward\u001b[0m\u001b[1;33m(\u001b[0m\u001b[0mself\u001b[0m\u001b[1;33m,\u001b[0m \u001b[0min_data\u001b[0m\u001b[1;33m,\u001b[0m \u001b[0mgrad_data\u001b[0m\u001b[1;33m)\u001b[0m\u001b[1;33m:\u001b[0m\u001b[1;33m\u001b[0m\u001b[0m\n",
      "\u001b[1;32m/usr/local/lib/python2.7/dist-packages/chainer/functions/softmax_cross_entropy.pyc\u001b[0m in \u001b[0;36mcheck_type_forward\u001b[1;34m(self, in_types)\u001b[0m\n\u001b[0;32m     25\u001b[0m             \u001b[0mt_type\u001b[0m\u001b[1;33m.\u001b[0m\u001b[0mndim\u001b[0m \u001b[1;33m==\u001b[0m \u001b[1;36m1\u001b[0m\u001b[1;33m,\u001b[0m\u001b[1;33m\u001b[0m\u001b[0m\n\u001b[0;32m     26\u001b[0m \u001b[1;33m\u001b[0m\u001b[0m\n\u001b[1;32m---> 27\u001b[1;33m             \u001b[0mx_type\u001b[0m\u001b[1;33m.\u001b[0m\u001b[0mshape\u001b[0m\u001b[1;33m[\u001b[0m\u001b[1;36m0\u001b[0m\u001b[1;33m]\u001b[0m \u001b[1;33m==\u001b[0m \u001b[0mt_type\u001b[0m\u001b[1;33m.\u001b[0m\u001b[0mshape\u001b[0m\u001b[1;33m[\u001b[0m\u001b[1;36m0\u001b[0m\u001b[1;33m]\u001b[0m\u001b[1;33m,\u001b[0m\u001b[1;33m\u001b[0m\u001b[0m\n\u001b[0m\u001b[0;32m     28\u001b[0m         )\n\u001b[0;32m     29\u001b[0m \u001b[1;33m\u001b[0m\u001b[0m\n",
      "\u001b[1;32m/usr/local/lib/python2.7/dist-packages/chainer/utils/type_check.pyc\u001b[0m in \u001b[0;36m__getitem__\u001b[1;34m(self, key)\u001b[0m\n\u001b[0;32m    139\u001b[0m \u001b[1;33m\u001b[0m\u001b[0m\n\u001b[0;32m    140\u001b[0m     \u001b[1;32mdef\u001b[0m \u001b[0m__getitem__\u001b[0m\u001b[1;33m(\u001b[0m\u001b[0mself\u001b[0m\u001b[1;33m,\u001b[0m \u001b[0mkey\u001b[0m\u001b[1;33m)\u001b[0m\u001b[1;33m:\u001b[0m\u001b[1;33m\u001b[0m\u001b[0m\n\u001b[1;32m--> 141\u001b[1;33m         \u001b[1;32mreturn\u001b[0m \u001b[0mGetItem\u001b[0m\u001b[1;33m(\u001b[0m\u001b[0mself\u001b[0m\u001b[1;33m,\u001b[0m \u001b[0mkey\u001b[0m\u001b[1;33m)\u001b[0m\u001b[1;33m\u001b[0m\u001b[0m\n\u001b[0m\u001b[0;32m    142\u001b[0m \u001b[1;33m\u001b[0m\u001b[0m\n\u001b[0;32m    143\u001b[0m     \u001b[1;32mdef\u001b[0m \u001b[0m__call__\u001b[0m\u001b[1;33m(\u001b[0m\u001b[0mself\u001b[0m\u001b[1;33m,\u001b[0m \u001b[1;33m*\u001b[0m\u001b[0margs\u001b[0m\u001b[1;33m)\u001b[0m\u001b[1;33m:\u001b[0m\u001b[1;33m\u001b[0m\u001b[0m\n",
      "\u001b[1;31mKeyboardInterrupt\u001b[0m: "
     ]
    }
   ],
   "source": [
    "\n",
    "optimizer = optimizers.SGD()\n",
    "optimizer.setup(model.collect_parameters())\n",
    "\n",
    "for epoch in xrange(50):\n",
    "    optimizer.zero_grads()\n",
    "    cost, ys = forward(model, hashed_word_seq)\n",
    "    cost.backward()\n",
    "    optimizer.update()\n",
    "    if epoch % 20 == 0:\n",
    "        print epoch, cost.data"
   ]
  },
  {
   "cell_type": "code",
   "execution_count": 17,
   "metadata": {
    "collapsed": false
   },
   "outputs": [
    {
     "data": {
      "text/plain": [
       "'go why loves sure that went go why loves sure that went go why loves sure that went go why loves sure that went go why loves sure that went go why loves sure that went go why loves sure that went go why loves sure that went go why loves sure that went go why loves sure that went go why loves sure that went go why loves sure that went go why loves sure that went go why loves sure that went go why loves sure that went go why loves sure that went go why loves sure'"
      ]
     },
     "execution_count": 17,
     "metadata": {},
     "output_type": "execute_result"
    }
   ],
   "source": [
    "\" \".join([i2w[i] for i in predict(model, w2i[\"mary\"], 100)])"
   ]
  },
  {
   "cell_type": "code",
   "execution_count": null,
   "metadata": {
    "collapsed": true
   },
   "outputs": [],
   "source": []
  }
 ],
 "metadata": {
  "kernelspec": {
   "display_name": "Python 2",
   "language": "python",
   "name": "python2"
  },
  "language_info": {
   "codemirror_mode": {
    "name": "ipython",
    "version": 2
   },
   "file_extension": ".py",
   "mimetype": "text/x-python",
   "name": "python",
   "nbconvert_exporter": "python",
   "pygments_lexer": "ipython2",
   "version": "2.7.6"
  }
 },
 "nbformat": 4,
 "nbformat_minor": 0
}
