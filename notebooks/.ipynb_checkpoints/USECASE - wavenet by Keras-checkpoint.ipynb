{
 "cells": [
  {
   "cell_type": "markdown",
   "metadata": {},
   "source": [
    "# Wavenet by Keras\n",
    "## Resources\n",
    "- two popular implementations based on Keras so far\n",
    "    - [keras-wavenet](https://github.com/usernaamee/keras-wavenet)\n",
    "    - [wavenet](https://github.com/basveeling/wavenet)\n",
    "- [Blog by deepmind](https://deepmind.com/blog/wavenet-generative-model-raw-audio/)\n",
    "- [Paper by deepmind](https://arxiv.org/pdf/1609.03499.pdf)\n",
    "\n",
    "## Focus on [keras-wavenet](https://github.com/usernaamee/keras-wavenet) Implementation\n",
    "- Data used: [Librispeech](http://www.openslr.org/12/)\n",
    "- Resample and merge data into train and validation .wav files\n",
    "```\n",
    "cvlc -vvv --sout-keep --sout-all --sout \"#gather:transcode{acodec=s16l,channels=1,samplerate=8000}:std{access=file,mux=wav,dst=validate.wav}\" `find LibriSpeech/test-clean/ -name \"*.flac\"` vlc://quit\n",
    "cvlc -vvv --sout-keep --sout-all --sout \"#gather:transcode{acodec=s16l,channels=1,samplerate=8000}:std{access=file,mux=wav,dst=train.wav}\" `find LibriSpeech/dev-clean/ -name \"*.flac\"` vlc://quit\n",
    "```"
   ]
  },
  {
   "cell_type": "code",
   "execution_count": 1,
   "metadata": {
    "collapsed": false
   },
   "outputs": [],
   "source": [
    "%matplotlib inline"
   ]
  },
  {
   "cell_type": "code",
   "execution_count": 2,
   "metadata": {
    "collapsed": false
   },
   "outputs": [
    {
     "name": "stderr",
     "output_type": "stream",
     "text": [
      "Using Theano backend.\n",
      "Using gpu device 0: GeForce GTX 980M (CNMeM is enabled with initial size: 10.0% of memory, cuDNN 5103)\n"
     ]
    }
   ],
   "source": [
    "from scipy.io.wavfile import read, write\n",
    "import numpy as np\n",
    "from keras.callbacks import Callback\n",
    "from keras.models import Model, Sequential\n",
    "from keras.layers import Conv1D, AtrousConv1D, Flatten, Dense, Input\n",
    "from keras.layers import Lambda, merge, Activation\n",
    "from keras.utils import np_utils\n",
    "import keras.backend as K\n",
    "from keras.utils.visualize_util import plot\n",
    "\n",
    "import matplotlib.pyplot as plt"
   ]
  },
  {
   "cell_type": "markdown",
   "metadata": {},
   "source": [
    "## read, process (normalize) wav files"
   ]
  },
  {
   "cell_type": "code",
   "execution_count": 3,
   "metadata": {
    "collapsed": false
   },
   "outputs": [
    {
     "name": "stdout",
     "output_type": "stream",
     "text": [
      "total 548M\r\n",
      "-rw-rw-r-- 1 1000 1000 274M Sep 19 13:13 train.wav\r\n",
      "-rw-rw-r-- 1 1000 1000 275M Sep 19 13:13 validate.wav\r\n"
     ]
    }
   ],
   "source": [
    "!ls -lh ../data/librispeech/"
   ]
  },
  {
   "cell_type": "markdown",
   "metadata": {},
   "source": [
    "a wave file is a numpy array with a sampling rate"
   ]
  },
  {
   "cell_type": "code",
   "execution_count": 4,
   "metadata": {
    "collapsed": false
   },
   "outputs": [
    {
     "name": "stdout",
     "output_type": "stream",
     "text": [
      "(143256709,)\n"
     ]
    },
    {
     "data": {
      "text/plain": [
       "[<matplotlib.lines.Line2D at 0x7fb7246ce8d0>]"
      ]
     },
     "execution_count": 4,
     "metadata": {},
     "output_type": "execute_result"
    },
    {
     "data": {
      "image/png": "[encoded data removed]",
      "text/plain": [
       "<matplotlib.figure.Figure at 0x7fb724f8f910>"
      ]
     },
     "metadata": {},
     "output_type": "display_data"
    }
   ],
   "source": [
    "samplerate, audio = read(\"../data/librispeech/train.wav\")\n",
    "print audio.shape\n",
    "plt.plot(audio[:5000])"
   ]
  },
  {
   "cell_type": "code",
   "execution_count": 5,
   "metadata": {
    "collapsed": false
   },
   "outputs": [
    {
     "name": "stdout",
     "output_type": "stream",
     "text": [
      "(143256709,) (143978215,)\n"
     ]
    }
   ],
   "source": [
    "def read_wav(wav_file):\n",
    "    '''return wav as normalized numpy array in [-1. 1.]\n",
    "    '''\n",
    "    sampling_rate, audio = read(wav_file)\n",
    "    audio = audio.astype(np.float)\n",
    "    audio_min, audio_max = audio.min(), audio.max()\n",
    "    audio = (audio - audio_min) * 1. / (audio_max - audio_min)\n",
    "    audio = audio * 2 - 1\n",
    "    return sampling_rate, audio\n",
    "\n",
    "train_sr, train_audio = read_wav('../data/librispeech/train.wav')\n",
    "test_sr, test_audio = read_wav('../data/librispeech/validate.wav')\n",
    "\n",
    "assert train_sr == test_sr\n",
    "print train_audio.shape, test_audio.shape"
   ]
  },
  {
   "cell_type": "markdown",
   "metadata": {},
   "source": [
    "## generate training examples\n",
    "- sliding a window across the 1D signal\n",
    "- target is encoded by [$\\mu$-law algorithm](https://en.wikipedia.org/wiki/%CE%9C-law_algorithm), to imporve snr\n",
    "- the target is further encoded to 0 to 256 to make it a classification problem"
   ]
  },
  {
   "cell_type": "code",
   "execution_count": 6,
   "metadata": {
    "collapsed": true
   },
   "outputs": [],
   "source": [
    "nb_classes = 256\n",
    "window = 2048\n",
    "stride = 128"
   ]
  },
  {
   "cell_type": "code",
   "execution_count": 22,
   "metadata": {
    "collapsed": true
   },
   "outputs": [],
   "source": [
    "def mu_encode(signal, mu=nb_classes):\n",
    "    '''Expect signal values to be in [-1, 1]\n",
    "    return encoded signal as in [0, mu]\n",
    "    '''\n",
    "    sign = np.sign(signal)\n",
    "    # -1 ~ 1\n",
    "    encoded = sign * np.log(1+mu*np.abs(signal)) / np.log(1+mu) \n",
    "    # 0 ~ 255\n",
    "    encoded = (encoded + 1) / 2 * mu\n",
    "    return encoded.astype(np.int)\n",
    "\n",
    "def mu_decode(signal, mu=nb_classes):\n",
    "    '''Expect signal values to be in [0, mu]\n",
    "    return decocded signal as in [-2^15, 2^15]\n",
    "    '''\n",
    "    # 0 - 1\n",
    "    decoded = signal.astype(np.float) / mu\n",
    "    # -1 to 1\n",
    "    decoded = decoded * 2 - 1\n",
    "    decoded = sign(decoded) * (1/mu) * ((1+u)**np.abs(signal) - 1)\n",
    "    ## make it 16 bit\n",
    "    decoded = decoded * 2**15\n",
    "    return decoded\n",
    "\n",
    "def data_generator(seq, window, stride, minibatch_size=32):\n",
    "    i = 0\n",
    "    ibatch = 0\n",
    "    xs, ts = [], []\n",
    "    while True:\n",
    "        x = seq[i:i + window]\n",
    "        t = seq[i + window + 1]\n",
    "        xs.append(x)\n",
    "        ts.append(t)\n",
    "        i += stride\n",
    "        if i >= len(seq):\n",
    "            i = 0\n",
    "        if len(xs) == minibatch_size:\n",
    "            X = np.expand_dims(np.row_stack(xs), axis=-1)\n",
    "            t = np.array(ts)\n",
    "            t = mu_encode(t) # 0 ~ 256\n",
    "            y = np_utils.to_categorical(t, nb_classes = nb_classes)\n",
    "            yield X, y\n",
    "            xs, ts = [], []"
   ]
  },
  {
   "cell_type": "code",
   "execution_count": 23,
   "metadata": {
    "collapsed": false
   },
   "outputs": [],
   "source": [
    "## test generator\n",
    "g = data_generator(train_audio, window, stride)\n",
    "for _ in xrange(10):\n",
    "    X, y = g.next()\n",
    "    assert X.shape == (32, 2048, 1)\n",
    "    assert y.shape == (32, nb_classes)\n",
    "    assert np.all(0 <= y)\n",
    "    assert np.all(y <= nb_classes)"
   ]
  },
  {
   "cell_type": "markdown",
   "metadata": {},
   "source": [
    "## build the wavenet model\n",
    "- Using a series of AtrousConv1D (dilated Conv) will create \"exponetial\" coverage of signals.\n",
    "- The effect is analogous to a sequence of RNN (e.g., LSTM) layers, which models higher order interaction of a time series.\n",
    "- See the [interesting article](http://www.inference.vc/dilated-convolutions-and-kronecker-factorisation/) explaining dilated convolution"
   ]
  },
  {
   "cell_type": "code",
   "execution_count": 24,
   "metadata": {
    "collapsed": true
   },
   "outputs": [],
   "source": [
    "## lego blocks\n",
    "def wavenet_block(nb_filters, filter_size, atrous_rate):\n",
    "    def f(x):\n",
    "        tanh_x = AtrousConv1D(nb_filters, filter_size, \n",
    "                              atrous_rate=atrous_rate,\n",
    "                              border_mode='same',\n",
    "                              activation='tanh')(x)\n",
    "        sigmoid_x = AtrousConv1D(nb_filters, filter_size,\n",
    "                              atrous_rate=atrous_rate,\n",
    "                              border_mode='same',\n",
    "                              activation='sigmoid')(x)\n",
    "        merged = merge([tanh_x, sigmoid_x], mode='mul')\n",
    "        ## hard coded to 1D output, because it is a single signal\n",
    "        skip = Conv1D(1, 1, \n",
    "                        activation='relu',\n",
    "                        border_mode='same')(merged)\n",
    "        out = merge([skip, x], mode='sum')\n",
    "        return out, skip\n",
    "    return f"
   ]
  },
  {
   "cell_type": "code",
   "execution_count": 25,
   "metadata": {
    "collapsed": false
   },
   "outputs": [
    {
     "name": "stdout",
     "output_type": "stream",
     "text": [
      "[ 5 10  1] [ 5 10  1]\n"
     ]
    }
   ],
   "source": [
    "## test block\n",
    "# a sequence of 10 vectors (1D)\n",
    "x = Input(tensor=K.random_normal((5, 10, 1)), shape=(10, 1))\n",
    "out, skip = wavenet_block(3, 3, 2)(x)\n",
    "print out.shape.eval(), skip.shape.eval()"
   ]
  },
  {
   "cell_type": "code",
   "execution_count": 26,
   "metadata": {
    "collapsed": false
   },
   "outputs": [
    {
     "data": {
      "image/png": "[encoded data removed]",
      "text/plain": [
       "<IPython.core.display.Image object>"
      ]
     },
     "execution_count": 26,
     "metadata": {},
     "output_type": "execute_result"
    }
   ],
   "source": [
    "m = Model(input=x, output=out)\n",
    "plot(m, to_file=\"../models/model.png\")\n",
    "from IPython.display import Image\n",
    "Image(\"../models/model.png\")"
   ]
  },
  {
   "cell_type": "code",
   "execution_count": 27,
   "metadata": {
    "collapsed": true
   },
   "outputs": [],
   "source": [
    "def wavenet_model(seq_length):\n",
    "    # 1D signal of length = seq_length\n",
    "    model_input = Input(shape=(seq_length, 1))\n",
    "    out, skip = wavenet_block(64, 2, 2)(model_input)\n",
    "    skips = [skip]\n",
    "    for i in xrange(20):\n",
    "        # 1, 2, 4, 8, ... 256, 1, ...\n",
    "        atrous_rate = 2 ** ((i+2) % 9)\n",
    "        out, skip = wavenet_block(64, 2, atrous_rate)(out)\n",
    "        skips.append(skip)\n",
    "    model_output = merge(skips, mode=\"sum\")\n",
    "    model_output = Activation('relu')(model_output)\n",
    "    # conv with filter_size=1 gives the same length of seq\n",
    "    model_output = Conv1D(1, 1, activation='relu')(model_output)\n",
    "    model_output = Conv1D(1, 1)(model_output)\n",
    "    ## flatten and add classification head\n",
    "    model_output = Flatten()(model_output)\n",
    "    model_output = Dense(nb_classes, activation='softmax')(model_output)\n",
    "    \n",
    "    model = Model(input = model_input, output = model_output)\n",
    "    model.compile(loss='categorical_crossentropy', optimizer=\"adam\",\n",
    "                 metrics=['accuracy'])\n",
    "    return model"
   ]
  },
  {
   "cell_type": "code",
   "execution_count": 28,
   "metadata": {
    "collapsed": true
   },
   "outputs": [],
   "source": [
    "# test model\n",
    "model = wavenet_model(10)"
   ]
  },
  {
   "cell_type": "raw",
   "metadata": {
    "collapsed": true
   },
   "source": [
    "plot(model, to_file=\"../models/model.png\")\n",
    "from IPython.display import Image\n",
    "Image(\"../models/model.png\")"
   ]
  },
  {
   "cell_type": "code",
   "execution_count": 30,
   "metadata": {
    "collapsed": false
   },
   "outputs": [
    {
     "data": {
      "text/plain": [
       "((None, 10, 1), (None, 256))"
      ]
     },
     "execution_count": 30,
     "metadata": {},
     "output_type": "execute_result"
    }
   ],
   "source": [
    "model.input_shape, model.output_shape"
   ]
  },
  {
   "cell_type": "markdown",
   "metadata": {},
   "source": [
    "## train the model"
   ]
  },
  {
   "cell_type": "code",
   "execution_count": 32,
   "metadata": {
    "collapsed": false
   },
   "outputs": [
    {
     "name": "stdout",
     "output_type": "stream",
     "text": [
      "Epoch 1/5\n",
      "2976/3000 [============================>.] - ETA: 0s - loss: 5.1827 - acc: 0.0101"
     ]
    },
    {
     "name": "stderr",
     "output_type": "stream",
     "text": [
      "/usr/local/lib/python2.7/dist-packages/keras/engine/training.py:1462: UserWarning: Epoch comprised more than `samples_per_epoch` samples, which might affect learning results. Set `samples_per_epoch` correctly to avoid this warning.\n",
      "  warnings.warn('Epoch comprised more than '\n"
     ]
    },
    {
     "name": "stdout",
     "output_type": "stream",
     "text": [
      "3008/3000 [==============================] - 50s - loss: 5.1791 - acc: 0.0103 - val_loss: 5.4622 - val_acc: 0.0000e+00\n",
      "Epoch 2/5\n",
      "3008/3000 [==============================] - 51s - loss: 5.0161 - acc: 0.0103 - val_loss: 5.5171 - val_acc: 0.0059\n",
      "Epoch 3/5\n",
      "3008/3000 [==============================] - 51s - loss: 5.0502 - acc: 0.0113 - val_loss: 5.3755 - val_acc: 0.0039\n",
      "Epoch 4/5\n",
      "3008/3000 [==============================] - 52s - loss: 5.0399 - acc: 0.0545 - val_loss: 5.5012 - val_acc: 0.0039\n",
      "Epoch 5/5\n",
      "3008/3000 [==============================] - 52s - loss: 4.9945 - acc: 0.0682 - val_loss: 5.3738 - val_acc: 0.0020\n"
     ]
    },
    {
     "data": {
      "text/plain": [
       "<keras.callbacks.History at 0x7fb6d0064190>"
      ]
     },
     "execution_count": 32,
     "metadata": {},
     "output_type": "execute_result"
    }
   ],
   "source": [
    "train_generator = data_generator(train_audio, window, stride)\n",
    "test_generator = data_generator(test_audio, window, stride)\n",
    "model = wavenet_model(window)\n",
    "model.fit_generator(train_generator, samples_per_epoch=3000,\n",
    "                   nb_epoch=5, validation_data=test_generator,\n",
    "                   nb_val_samples=500)"
   ]
  },
  {
   "cell_type": "code",
   "execution_count": null,
   "metadata": {
    "collapsed": true
   },
   "outputs": [],
   "source": []
  }
 ],
 "metadata": {
  "kernelspec": {
   "display_name": "Python 2",
   "language": "python",
   "name": "python2"
  },
  "language_info": {
   "codemirror_mode": {
    "name": "ipython",
    "version": 2
   },
   "file_extension": ".py",
   "mimetype": "text/x-python",
   "name": "python",
   "nbconvert_exporter": "python",
   "pygments_lexer": "ipython2",
   "version": "2.7.6"
  }
 },
 "nbformat": 4,
 "nbformat_minor": 1
}
