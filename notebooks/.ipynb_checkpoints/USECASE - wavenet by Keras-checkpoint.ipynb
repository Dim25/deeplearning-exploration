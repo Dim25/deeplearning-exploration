{
 "cells": [
  {
   "cell_type": "markdown",
   "metadata": {},
   "source": [
    "# Wavenet by Keras\n",
    "## Resources\n",
    "- two popular implementations based on Keras so far\n",
    "    - [keras-wavenet](https://github.com/usernaamee/keras-wavenet)\n",
    "    - [wavenet](https://github.com/basveeling/wavenet)\n",
    "- [Blog by deepmind](https://deepmind.com/blog/wavenet-generative-model-raw-audio/)\n",
    "- [Paper by deepmind](https://arxiv.org/pdf/1609.03499.pdf)\n",
    "\n",
    "## Focus on [keras-wavenet](https://github.com/usernaamee/keras-wavenet) Implementation\n",
    "- Data used: [Librispeech](http://www.openslr.org/12/)\n",
    "- Resample and merge data into train and validation .wav files\n",
    "```\n",
    "cvlc -vvv --sout-keep --sout-all --sout \"#gather:transcode{acodec=s16l,channels=1,samplerate=8000}:std{access=file,mux=wav,dst=validate.wav}\" `find LibriSpeech/test-clean/ -name \"*.flac\"` vlc://quit\n",
    "cvlc -vvv --sout-keep --sout-all --sout \"#gather:transcode{acodec=s16l,channels=1,samplerate=8000}:std{access=file,mux=wav,dst=train.wav}\" `find LibriSpeech/dev-clean/ -name \"*.flac\"` vlc://quit\n",
    "```"
   ]
  },
  {
   "cell_type": "code",
   "execution_count": 1,
   "metadata": {
    "collapsed": false
   },
   "outputs": [],
   "source": [
    "%matplotlib inline"
   ]
  },
  {
   "cell_type": "code",
   "execution_count": 22,
   "metadata": {
    "collapsed": false
   },
   "outputs": [],
   "source": [
    "from scipy.io.wavfile import read, write\n",
    "import numpy as np\n",
    "from keras.callbacks import Callback\n",
    "from keras.models import Model, Sequential\n",
    "from keras.layers import Conv1D, AtrousConv1D, Flatten, Dense, Input\n",
    "from keras.layers import Lambda, merge, Activation\n",
    "from keras.utils import np_utils\n",
    "\n",
    "import matplotlib.pyplot as plt"
   ]
  },
  {
   "cell_type": "markdown",
   "metadata": {},
   "source": [
    "## read, process (normalize) wav files"
   ]
  },
  {
   "cell_type": "code",
   "execution_count": 3,
   "metadata": {
    "collapsed": false
   },
   "outputs": [
    {
     "name": "stdout",
     "output_type": "stream",
     "text": [
      "total 548M\r\n",
      "-rw-rw-r-- 1 1000 1000 274M Sep 19 13:13 train.wav\r\n",
      "-rw-rw-r-- 1 1000 1000 275M Sep 19 13:13 validate.wav\r\n"
     ]
    }
   ],
   "source": [
    "!ls -lh ../data/librispeech/"
   ]
  },
  {
   "cell_type": "markdown",
   "metadata": {},
   "source": [
    "a wave file is a numpy array with a sampling rate"
   ]
  },
  {
   "cell_type": "code",
   "execution_count": 4,
   "metadata": {
    "collapsed": false
   },
   "outputs": [
    {
     "name": "stdout",
     "output_type": "stream",
     "text": [
      "(143256709,)\n"
     ]
    },
    {
     "data": {
      "text/plain": [
       "[<matplotlib.lines.Line2D at 0x7f765a103c90>]"
      ]
     },
     "execution_count": 4,
     "metadata": {},
     "output_type": "execute_result"
    },
    {
     "data": {
      "image/png": "[encoded data removed]",
      "text/plain": [
       "<matplotlib.figure.Figure at 0x7f761ca5ea50>"
      ]
     },
     "metadata": {},
     "output_type": "display_data"
    }
   ],
   "source": [
    "samplerate, audio = read(\"../data/librispeech/train.wav\")\n",
    "print audio.shape\n",
    "plt.plot(audio[:5000])"
   ]
  },
  {
   "cell_type": "code",
   "execution_count": 5,
   "metadata": {
    "collapsed": false
   },
   "outputs": [
    {
     "name": "stdout",
     "output_type": "stream",
     "text": [
      "(143256709,) (143978215,)\n"
     ]
    }
   ],
   "source": [
    "def read_wav(wav_file):\n",
    "    '''return wav as normalized numpy array in [-1. 1.]\n",
    "    '''\n",
    "    sampling_rate, audio = read(wav_file)\n",
    "    audio = audio.astype(np.float)\n",
    "    audio_min, audio_max = audio.min(), audio.max()\n",
    "    audio = (audio - audio_min) * 1. / (audio_max - audio_min)\n",
    "    audio = audio * 2 - 1\n",
    "    return sampling_rate, audio\n",
    "\n",
    "train_sr, train_audio = read_wav('../data/librispeech/train.wav')\n",
    "test_sr, test_audio = read_wav('../data/librispeech/validate.wav')\n",
    "\n",
    "assert train_sr == test_sr\n",
    "print train_audio.shape, test_audio.shape"
   ]
  },
  {
   "cell_type": "markdown",
   "metadata": {},
   "source": [
    "## generate training examples\n",
    "- sliding a window across the 1D signal\n",
    "- target is encoded by [$\\mu$-law algorithm](https://en.wikipedia.org/wiki/%CE%9C-law_algorithm), to imporve snr\n",
    "- the target is further encoded to 0 to 255 to make it a classification problem"
   ]
  },
  {
   "cell_type": "code",
   "execution_count": 28,
   "metadata": {
    "collapsed": true
   },
   "outputs": [],
   "source": [
    "nb_classes = 256\n",
    "window = 2048\n",
    "stride = 128"
   ]
  },
  {
   "cell_type": "code",
   "execution_count": 29,
   "metadata": {
    "collapsed": true
   },
   "outputs": [],
   "source": [
    "def mu_encode(signal, mu=nb_classes):\n",
    "    sign = np.sign(signal)\n",
    "    # -1 ~ 1\n",
    "    encoded = sign * np.log(1+mu*np.abs(signal)) / np.log(1+mu) \n",
    "    # 0 ~ 255\n",
    "    encoded = (encoded + 1) / 2 * mu\n",
    "    return encoded.astype(np.int)\n",
    "\n",
    "def mu_decode(signal, mu=nb_classes):\n",
    "    # 0 - 1\n",
    "    decoded = signal.astype(np.float) / mu\n",
    "    # -1 to 1\n",
    "    decoded = decoded * 2 - 1\n",
    "    decoded = sign(decoded) * (1/mu) * ((1+u)**np.abs(signal) - 1)\n",
    "    ## make it 16 bit\n",
    "    decoded = decoded * 2**15\n",
    "    return decoded\n",
    "\n",
    "def data_generator(seq, window, stride, minibatch_size=32):\n",
    "    i = 0\n",
    "    ibatch = 0\n",
    "    xs, ts = [], []\n",
    "    while True:\n",
    "        x = seq[i:i + window]\n",
    "        t = seq[i + window + 1]\n",
    "        xs.append(x)\n",
    "        ts.append(t)\n",
    "        i += stride\n",
    "        if i >= len(seq):\n",
    "            i = 0\n",
    "        if len(xs) == minibatch_size:\n",
    "            X = np.row_stack(xs)\n",
    "            t = np.array(ts)\n",
    "            t = mu_encode(t) # 0 ~ 256\n",
    "            y = np_utils.to_categorical(t, nb_classes = nb_classes)\n",
    "            yield X, y\n",
    "            xs, ts = [], []"
   ]
  },
  {
   "cell_type": "code",
   "execution_count": 30,
   "metadata": {
    "collapsed": false
   },
   "outputs": [],
   "source": [
    "## test generator\n",
    "g = data_generator(train_audio, window, stride)\n",
    "for _ in xrange(10):\n",
    "    X, y = g.next()\n",
    "    assert X.shape == (32, 2048)\n",
    "    assert y.shape == (32, nb_classes)\n",
    "    assert np.all(0 <= y)\n",
    "    assert np.all(y <= nb_classes)"
   ]
  },
  {
   "cell_type": "code",
   "execution_count": null,
   "metadata": {
    "collapsed": true
   },
   "outputs": [],
   "source": []
  }
 ],
 "metadata": {
  "kernelspec": {
   "display_name": "Python 2",
   "language": "python",
   "name": "python2"
  },
  "language_info": {
   "codemirror_mode": {
    "name": "ipython",
    "version": 2
   },
   "file_extension": ".py",
   "mimetype": "text/x-python",
   "name": "python",
   "nbconvert_exporter": "python",
   "pygments_lexer": "ipython2",
   "version": "2.7.6"
  }
 },
 "nbformat": 4,
 "nbformat_minor": 1
}
