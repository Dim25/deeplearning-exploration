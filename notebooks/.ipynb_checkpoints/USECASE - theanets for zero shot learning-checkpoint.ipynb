{
 "cells": [
  {
   "cell_type": "markdown",
   "metadata": {},
   "source": [
    "## Use Theanets to Implement Word/Image Vector fusion\n",
    "- [source of both idea and code](https://github.com/mganjoo/zslearning)\n",
    "- [a theano based implementation] - http://nbviewer.ipython.org/github/renruoxu/data-fusion/blob/master/deprecated/mapping%20(1).ipynb\n",
    "- it is a standard 1-hidden layer MLP with customized cost function\n",
    "- the data we use here is that: X (image vectors from DeCaff), Y (word vectors from word2vec)"
   ]
  },
  {
   "cell_type": "code",
   "execution_count": 71,
   "metadata": {
    "collapsed": true
   },
   "outputs": [],
   "source": [
    "import theanets\n",
    "import pandas as pd\n",
    "import numpy as np\n",
    "from collections import Counter\n",
    "from sklearn.cross_validation import train_test_split\n",
    "from sklearn.metrics import mean_squared_error, pairwise_distances_argmin, confusion_matrix\n",
    "from sklearn.preprocessing import StandardScaler\n",
    "from gensim.models import Word2Vec"
   ]
  },
  {
   "cell_type": "code",
   "execution_count": 32,
   "metadata": {
    "collapsed": false
   },
   "outputs": [],
   "source": [
    "LABELS = np.array([\"airplane\", \"automobile\", \"bird\",\"cat\",\n",
    "                        \"deer\",\"dog\",\"frog\", \"horse\", \"ship\",\"truck\"])\n",
    "word2vec = Word2Vec.load_word2vec_format(\"../data/word2vec.bin\", binary = True)\n",
    "label_vecs = np.vstack([word2vec[w] for w in LABELS],)\n",
    "\n",
    "store = pd.HDFStore(\"../data/cifa_XY.hd5\")\n",
    "X = store[\"X/\"].get_values()\n",
    "y = store[\"Y/\"].get_values()\n",
    "labels = pairwise_distances_argmin(y, label_vecs)"
   ]
  },
  {
   "cell_type": "code",
   "execution_count": 33,
   "metadata": {
    "collapsed": false
   },
   "outputs": [],
   "source": [
    "## we train a mapping model with data excluding dogs\n",
    "## and later test whether the dog images are correctly mapped to word dog\n",
    "\n",
    "dog_index = (labels == 5) ## 5 is dog in LABELS\n",
    "X_nodog, y_nodog = X[~dog_index], y[~dog_index]\n",
    "X_dog, y_dog = X[dog_index], y[dog_index]\n",
    "label_nodog, label_dog = labels[~dog_index], labels[dog_index]"
   ]
  },
  {
   "cell_type": "code",
   "execution_count": 38,
   "metadata": {
    "collapsed": true
   },
   "outputs": [
    {
     "name": "stdout",
     "output_type": "stream",
     "text": [
      "train loss(err) 1.67341068732 (0.592448) valid loss(err) 3.58908356034 (2.24289)\n",
      "train loss(err) 1.33657578526 (0.434573) valid loss(err) 3.58908356034 (2.24289)\n",
      "train loss(err) 1.18820181879 (0.393524) valid loss(err) 3.58908356034 (2.24289)\n",
      "train loss(err) 1.08770575601 (0.369019) valid loss(err) 3.58908356034 (2.24289)\n",
      "train loss(err) 1.01357760272 (0.351119) valid loss(err) 3.58908356034 (2.24289)\n",
      "train loss(err) 0.952931391269 (0.33796) valid loss(err) 0.995105462689 (0.356418)\n",
      "train loss(err) 0.901132806375 (0.327501) valid loss(err) 0.995105462689 (0.356418)\n",
      "train loss(err) 0.857481872267 (0.318623) valid loss(err) 0.995105462689 (0.356418)\n",
      "train loss(err) 0.821514604848 (0.311487) valid loss(err) 0.995105462689 (0.356418)\n",
      "train loss(err) 0.789241926549 (0.30546) valid loss(err) 0.995105462689 (0.356418)\n",
      "train loss(err) 0.760073281587 (0.300856) valid loss(err) 0.805549274206 (0.32808)\n",
      "train loss(err) 0.730566200187 (0.293762) valid loss(err) 0.805549274206 (0.32808)\n",
      "train loss(err) 0.709220806432 (0.289551) valid loss(err) 0.805549274206 (0.32808)\n",
      "train loss(err) 0.687533288747 (0.284634) valid loss(err) 0.805549274206 (0.32808)\n",
      "train loss(err) 0.668731639238 (0.28025) valid loss(err) 0.805549274206 (0.32808)\n",
      "train loss(err) 0.65056606348 (0.276466) valid loss(err) 0.695373360547 (0.310814)\n",
      "train loss(err) 0.634819956148 (0.272141) valid loss(err) 0.695373360547 (0.310814)\n",
      "train loss(err) 0.622208427832 (0.268629) valid loss(err) 0.695373360547 (0.310814)\n",
      "train loss(err) 0.611242699693 (0.265325) valid loss(err) 0.695373360547 (0.310814)\n",
      "train loss(err) 0.60079936677 (0.261893) valid loss(err) 0.695373360547 (0.310814)\n",
      "train loss(err) 0.592142886219 (0.259181) valid loss(err) 0.645313872991 (0.305549)\n",
      "train loss(err) 0.586123197804 (0.257623) valid loss(err) 0.645313872991 (0.305549)\n",
      "train loss(err) 0.57919563185 (0.254841) valid loss(err) 0.645313872991 (0.305549)\n",
      "train loss(err) 0.571566372121 (0.252371) valid loss(err) 0.645313872991 (0.305549)\n",
      "train loss(err) 0.565484220005 (0.250044) valid loss(err) 0.645313872991 (0.305549)\n",
      "train loss(err) 0.559267834472 (0.248085) valid loss(err) 0.602122724353 (0.289469)\n",
      "train loss(err) 0.554451857897 (0.246208) valid loss(err) 0.602122724353 (0.289469)\n",
      "train loss(err) 0.548198573163 (0.24399) valid loss(err) 0.602122724353 (0.289469)\n",
      "train loss(err) 0.544524129025 (0.243686) valid loss(err) 0.602122724353 (0.289469)\n",
      "train loss(err) 0.537226221215 (0.241117) valid loss(err) 0.602122724353 (0.289469)\n",
      "train loss(err) 0.533590185794 (0.240668) valid loss(err) 0.586209864362 (0.290627)\n",
      "train loss(err) 0.528613472556 (0.239565) valid loss(err) 0.586209864362 (0.290627)\n",
      "train loss(err) 0.523436826749 (0.238708) valid loss(err) 0.586209864362 (0.290627)\n",
      "train loss(err) 0.517456109351 (0.237075) valid loss(err) 0.586209864362 (0.290627)\n",
      "train loss(err) 0.512637235138 (0.235556) valid loss(err) 0.586209864362 (0.290627)\n",
      "train loss(err) 0.507308306123 (0.234168) valid loss(err) 0.56097715743 (0.284722)\n",
      "train loss(err) 0.504119970784 (0.233141) valid loss(err) 0.56097715743 (0.284722)\n",
      "train loss(err) 0.500113123189 (0.231255) valid loss(err) 0.56097715743 (0.284722)\n",
      "train loss(err) 0.496947673341 (0.23051) valid loss(err) 0.56097715743 (0.284722)\n",
      "train loss(err) 0.494630372402 (0.229152) valid loss(err) 0.56097715743 (0.284722)\n",
      "train loss(err) 0.49227928109 (0.227794) valid loss(err) 0.551516529217 (0.284047)\n",
      "train loss(err) 0.490059821925 (0.226675) valid loss(err) 0.551516529217 (0.284047)\n",
      "train loss(err) 0.486988608614 (0.225164) valid loss(err) 0.551516529217 (0.284047)\n",
      "train loss(err) 0.485939172408 (0.224212) valid loss(err) 0.551516529217 (0.284047)\n",
      "train loss(err) 0.484121078799 (0.223522) valid loss(err) 0.551516529217 (0.284047)\n",
      "train loss(err) 0.482913222667 (0.222879) valid loss(err) 0.538047665981 (0.278834)\n",
      "train loss(err) 0.480901050519 (0.221358) valid loss(err) 0.538047665981 (0.278834)\n",
      "train loss(err) 0.479873816179 (0.221636) valid loss(err) 0.538047665981 (0.278834)\n",
      "train loss(err) 0.477770670057 (0.219696) valid loss(err) 0.538047665981 (0.278834)\n",
      "train loss(err) 0.476699882352 (0.218851) valid loss(err) 0.538047665981 (0.278834)\n",
      "train loss(err) 0.475754144738 (0.218738) valid loss(err) 0.536444568815 (0.278868)\n",
      "train loss(err) 0.47405189968 (0.217159) valid loss(err) 0.536444568815 (0.278868)\n",
      "train loss(err) 0.472154285977 (0.216141) valid loss(err) 0.536444568815 (0.278868)\n",
      "train loss(err) 0.471578678225 (0.216098) valid loss(err) 0.536444568815 (0.278868)\n",
      "train loss(err) 0.46968048823 (0.215105) valid loss(err) 0.536444568815 (0.278868)\n",
      "train loss(err) 0.46950420481 (0.214793) valid loss(err) 0.537726823524 (0.27789)\n",
      "train loss(err) 0.467685518098 (0.213267) valid loss(err) 0.537726823524 (0.27789)\n",
      "train loss(err) 0.467296578083 (0.213684) valid loss(err) 0.537726823524 (0.27789)\n",
      "train loss(err) 0.465088136495 (0.211861) valid loss(err) 0.537726823524 (0.27789)\n",
      "train loss(err) 0.464205001927 (0.211306) valid loss(err) 0.537726823524 (0.27789)\n",
      "train loss(err) 0.462766037909 (0.210477) valid loss(err) 0.532829029874 (0.278468)\n",
      "train loss(err) 0.462980713558 (0.210486) valid loss(err) 0.532829029874 (0.278468)\n",
      "train loss(err) 0.462124900549 (0.210289) valid loss(err) 0.532829029874 (0.278468)\n",
      "train loss(err) 0.461292336363 (0.20945) valid loss(err) 0.532829029874 (0.278468)\n",
      "train loss(err) 0.460315138991 (0.208972) valid loss(err) 0.532829029874 (0.278468)\n",
      "train loss(err) 0.459913254212 (0.20855) valid loss(err) 0.525923539086 (0.275975)\n",
      "train loss(err) 0.459144427144 (0.208466) valid loss(err) 0.525923539086 (0.275975)\n",
      "train loss(err) 0.458016349104 (0.20764) valid loss(err) 0.525923539086 (0.275975)\n",
      "train loss(err) 0.458290808226 (0.207641) valid loss(err) 0.525923539086 (0.275975)\n",
      "train loss(err) 0.456155016259 (0.20646) valid loss(err) 0.525923539086 (0.275975)\n",
      "train loss(err) 0.455086732067 (0.205906) valid loss(err) 0.525386110166 (0.274113)\n",
      "train loss(err) 0.454803507316 (0.205729) valid loss(err) 0.525386110166 (0.274113)\n",
      "train loss(err) 0.454386640924 (0.205585) valid loss(err) 0.525386110166 (0.274113)\n",
      "train loss(err) 0.452383909982 (0.204504) valid loss(err) 0.525386110166 (0.274113)\n",
      "train loss(err) 0.453558157437 (0.205437) valid loss(err) 0.525386110166 (0.274113)\n",
      "train loss(err) 0.452055275691 (0.204976) valid loss(err) 0.523193728173 (0.275412)\n",
      "train loss(err) 0.451375079918 (0.204742) valid loss(err) 0.523193728173 (0.275412)\n",
      "train loss(err) 0.450399289663 (0.204175) valid loss(err) 0.523193728173 (0.275412)\n",
      "train loss(err) 0.448764269807 (0.20341) valid loss(err) 0.523193728173 (0.275412)\n",
      "train loss(err) 0.448210676437 (0.20377) valid loss(err) 0.523193728173 (0.275412)\n",
      "train loss(err) 0.447327077989 (0.203362) valid loss(err) 0.515702201255 (0.272403)\n",
      "train loss(err) 0.445851255956 (0.202772) valid loss(err) 0.515702201255 (0.272403)\n",
      "train loss(err) 0.445242250127 (0.20265) valid loss(err) 0.515702201255 (0.272403)\n",
      "train loss(err) 0.443297708667 (0.202038) valid loss(err) 0.515702201255 (0.272403)\n",
      "train loss(err) 0.442858268448 (0.201959) valid loss(err) 0.515702201255 (0.272403)\n",
      "train loss(err) 0.442374465352 (0.20194) valid loss(err) 0.520424610259 (0.277027)\n",
      "train loss(err) 0.440892195023 (0.201132) valid loss(err) 0.520424610259 (0.277027)\n",
      "train loss(err) 0.440532924173 (0.201244) valid loss(err) 0.520424610259 (0.277027)\n",
      "train loss(err) 0.439767725483 (0.200917) valid loss(err) 0.520424610259 (0.277027)\n",
      "train loss(err) 0.438495648479 (0.200376) valid loss(err) 0.520424610259 (0.277027)\n",
      "train loss(err) 0.438625789159 (0.200922) valid loss(err) 0.511092638421 (0.273867)\n",
      "train loss(err) 0.436514363153 (0.199622) valid loss(err) 0.511092638421 (0.273867)\n",
      "train loss(err) 0.436639823212 (0.199891) valid loss(err) 0.511092638421 (0.273867)\n",
      "train loss(err) 0.436082545804 (0.199929) valid loss(err) 0.511092638421 (0.273867)\n",
      "train loss(err) 0.435312811491 (0.199575) valid loss(err) 0.511092638421 (0.273867)\n",
      "train loss(err) 0.434152676289 (0.198722) valid loss(err) 0.50837832153 (0.272688)\n",
      "train loss(err) 0.433147839277 (0.198351) valid loss(err) 0.50837832153 (0.272688)\n",
      "train loss(err) 0.432938190833 (0.198956) valid loss(err) 0.50837832153 (0.272688)\n",
      "train loss(err) 0.431349679758 (0.197879) valid loss(err) 0.50837832153 (0.272688)\n",
      "train loss(err) 0.430793957071 (0.197894) valid loss(err) 0.50837832153 (0.272688)\n",
      "train loss(err) 0.431674355635 (0.199071) valid loss(err) 0.51551794147 (0.283439)\n",
      "train loss(err) 0.428630034355 (0.197068) valid loss(err) 0.51551794147 (0.283439)\n",
      "train loss(err) 0.42826829978 (0.197305) valid loss(err) 0.51551794147 (0.283439)\n",
      "train loss(err) 0.427791102074 (0.197233) valid loss(err) 0.51551794147 (0.283439)\n",
      "train loss(err) 0.427159215037 (0.197188) valid loss(err) 0.51551794147 (0.283439)\n",
      "train loss(err) 0.426619426186 (0.197199) valid loss(err) 0.506642233568 (0.276227)\n",
      "train loss(err) 0.425757014455 (0.196632) valid loss(err) 0.506642233568 (0.276227)\n",
      "train loss(err) 0.424857875653 (0.196331) valid loss(err) 0.506642233568 (0.276227)\n",
      "train loss(err) 0.424450203094 (0.196477) valid loss(err) 0.506642233568 (0.276227)\n",
      "train loss(err) 0.423414954713 (0.195808) valid loss(err) 0.506642233568 (0.276227)\n",
      "train loss(err) 0.423022617969 (0.19567) valid loss(err) 0.506798200044 (0.278122)\n",
      "train loss(err) 0.42260000069 (0.195758) valid loss(err) 0.506798200044 (0.278122)\n",
      "train loss(err) 0.421275631903 (0.194576) valid loss(err) 0.506798200044 (0.278122)\n",
      "train loss(err) 0.421577454057 (0.195204) valid loss(err) 0.506798200044 (0.278122)\n",
      "train loss(err) 0.420591668573 (0.194709) valid loss(err) 0.506798200044 (0.278122)\n",
      "train loss(err) 0.419749207065 (0.194172) valid loss(err) 0.501764980105 (0.276441)\n",
      "train loss(err) 0.4197374956 (0.194315) valid loss(err) 0.501764980105 (0.276441)\n",
      "train loss(err) 0.420113559139 (0.194439) valid loss(err) 0.501764980105 (0.276441)\n",
      "train loss(err) 0.419946366532 (0.194491) valid loss(err) 0.501764980105 (0.276441)\n",
      "train loss(err) 0.418343626043 (0.193095) valid loss(err) 0.501764980105 (0.276441)\n",
      "train loss(err) 0.418072542423 (0.193111) valid loss(err) 0.502242847848 (0.2776)\n",
      "train loss(err) 0.416270291641 (0.191821) valid loss(err) 0.502242847848 (0.2776)\n",
      "train loss(err) 0.41644973079 (0.192071) valid loss(err) 0.502242847848 (0.2776)\n",
      "train loss(err) 0.417851846002 (0.193137) valid loss(err) 0.502242847848 (0.2776)\n",
      "train loss(err) 0.417190335233 (0.192536) valid loss(err) 0.502242847848 (0.2776)\n",
      "train loss(err) 0.416303985211 (0.192249) valid loss(err) 0.496989001357 (0.275104)\n",
      "train loss(err) 0.415487158876 (0.191286) valid loss(err) 0.496989001357 (0.275104)\n",
      "train loss(err) 0.415567645139 (0.191648) valid loss(err) 0.496989001357 (0.275104)\n",
      "train loss(err) 0.415908649314 (0.19189) valid loss(err) 0.496989001357 (0.275104)\n",
      "train loss(err) 0.415484411127 (0.19177) valid loss(err) 0.496989001357 (0.275104)\n",
      "train loss(err) 0.415054109766 (0.190884) valid loss(err) 0.50336348802 (0.279102)\n",
      "train loss(err) 0.414947668084 (0.191131) valid loss(err) 0.50336348802 (0.279102)\n",
      "train loss(err) 0.41337713296 (0.189936) valid loss(err) 0.50336348802 (0.279102)\n",
      "train loss(err) 0.415226246862 (0.191633) valid loss(err) 0.50336348802 (0.279102)\n",
      "train loss(err) 0.413158444491 (0.189832) valid loss(err) 0.50336348802 (0.279102)\n",
      "train loss(err) 0.413825729457 (0.19027) valid loss(err) 0.502912592554 (0.27961)\n",
      "train loss(err) 0.412538208684 (0.189234) valid loss(err) 0.502912592554 (0.27961)\n",
      "train loss(err) 0.412320465536 (0.18927) valid loss(err) 0.502912592554 (0.27961)\n",
      "train loss(err) 0.412340714644 (0.189205) valid loss(err) 0.502912592554 (0.27961)\n",
      "train loss(err) 0.413293097936 (0.18996) valid loss(err) 0.502912592554 (0.27961)\n"
     ]
    }
   ],
   "source": [
    "def train_model(X, y):\n",
    "    \n",
    "    train_X, valid_X, train_y, valid_y = train_test_split(X, y, test_size = 10000)\n",
    "    \n",
    "    ss_X = StandardScaler().fit(train_X)\n",
    "    ss_y = StandardScaler().fit(train_y)\n",
    "    scaled_train_X, scaled_valid_X = ss_X.transform(train_X), ss_X.transform(valid_X)\n",
    "    scaled_train_y, scaled_valid_y = ss_y.transform(train_y), ss_y.transform(valid_y)\n",
    "    \n",
    "    exp = theanets.Experiment(theanets.Regressor, layers = (4096, (200, \"tanh\"), 100))\n",
    "    for train, valid in exp.itertrain(train_set = (scaled_train_X, scaled_train_y), \n",
    "                                  valid_set = (scaled_valid_X, scaled_valid_y), \n",
    "                                  optimize = \"sgd\", learning_rate = 0.005, validate_every = 5,\n",
    "                                  hidden_l1 = 0.01, weight_l2 = 1e-4):\n",
    "        print 'train loss(err)', train['loss'], \"(%g)\" % train[\"err\"], 'valid loss(err)', valid['loss'], \"(%g)\" % valid['err']\n",
    "    return ss_X, ss_y, exp.network\n",
    "\n",
    "ss_X, ss_y, model = train_model(X_nodog, y_nodog)"
   ]
  },
  {
   "cell_type": "code",
   "execution_count": 41,
   "metadata": {
    "collapsed": true
   },
   "outputs": [],
   "source": [
    "def predict_by_model(xscaler, yscaler, model, X):\n",
    "    yhat = yscaler.inverse_transform(model.predict(xscaler.transform(X)))\n",
    "    return pairwise_distances_argmin(yhat, label_vecs)"
   ]
  },
  {
   "cell_type": "code",
   "execution_count": 69,
   "metadata": {
    "collapsed": false
   },
   "outputs": [
    {
     "data": {
      "text/html": [
       "<div style=\"max-height:1000px;max-width:1500px;overflow:auto;\">\n",
       "<table border=\"1\" class=\"dataframe\">\n",
       "  <thead>\n",
       "    <tr style=\"text-align: right;\">\n",
       "      <th></th>\n",
       "      <th>airplane</th>\n",
       "      <th>automobile</th>\n",
       "      <th>bird</th>\n",
       "      <th>cat</th>\n",
       "      <th>deer</th>\n",
       "      <th>frog</th>\n",
       "      <th>horse</th>\n",
       "      <th>ship</th>\n",
       "      <th>truck</th>\n",
       "    </tr>\n",
       "  </thead>\n",
       "  <tbody>\n",
       "    <tr>\n",
       "      <th>airplane</th>\n",
       "      <td>5314</td>\n",
       "      <td>28</td>\n",
       "      <td>124</td>\n",
       "      <td>29</td>\n",
       "      <td>46</td>\n",
       "      <td>17</td>\n",
       "      <td>48</td>\n",
       "      <td>248</td>\n",
       "      <td>146</td>\n",
       "    </tr>\n",
       "    <tr>\n",
       "      <th>automobile</th>\n",
       "      <td>99</td>\n",
       "      <td>5272</td>\n",
       "      <td>12</td>\n",
       "      <td>14</td>\n",
       "      <td>6</td>\n",
       "      <td>6</td>\n",
       "      <td>16</td>\n",
       "      <td>49</td>\n",
       "      <td>526</td>\n",
       "    </tr>\n",
       "    <tr>\n",
       "      <th>bird</th>\n",
       "      <td>133</td>\n",
       "      <td>5</td>\n",
       "      <td>4902</td>\n",
       "      <td>409</td>\n",
       "      <td>265</td>\n",
       "      <td>156</td>\n",
       "      <td>94</td>\n",
       "      <td>26</td>\n",
       "      <td>10</td>\n",
       "    </tr>\n",
       "    <tr>\n",
       "      <th>cat</th>\n",
       "      <td>34</td>\n",
       "      <td>4</td>\n",
       "      <td>306</td>\n",
       "      <td>5052</td>\n",
       "      <td>174</td>\n",
       "      <td>226</td>\n",
       "      <td>146</td>\n",
       "      <td>28</td>\n",
       "      <td>30</td>\n",
       "    </tr>\n",
       "    <tr>\n",
       "      <th>deer</th>\n",
       "      <td>46</td>\n",
       "      <td>2</td>\n",
       "      <td>306</td>\n",
       "      <td>217</td>\n",
       "      <td>5089</td>\n",
       "      <td>148</td>\n",
       "      <td>157</td>\n",
       "      <td>24</td>\n",
       "      <td>11</td>\n",
       "    </tr>\n",
       "    <tr>\n",
       "      <th>frog</th>\n",
       "      <td>19</td>\n",
       "      <td>2</td>\n",
       "      <td>141</td>\n",
       "      <td>310</td>\n",
       "      <td>148</td>\n",
       "      <td>5324</td>\n",
       "      <td>34</td>\n",
       "      <td>13</td>\n",
       "      <td>9</td>\n",
       "    </tr>\n",
       "    <tr>\n",
       "      <th>horse</th>\n",
       "      <td>22</td>\n",
       "      <td>3</td>\n",
       "      <td>94</td>\n",
       "      <td>339</td>\n",
       "      <td>224</td>\n",
       "      <td>13</td>\n",
       "      <td>5253</td>\n",
       "      <td>22</td>\n",
       "      <td>30</td>\n",
       "    </tr>\n",
       "    <tr>\n",
       "      <th>ship</th>\n",
       "      <td>179</td>\n",
       "      <td>22</td>\n",
       "      <td>29</td>\n",
       "      <td>17</td>\n",
       "      <td>6</td>\n",
       "      <td>7</td>\n",
       "      <td>17</td>\n",
       "      <td>5635</td>\n",
       "      <td>88</td>\n",
       "    </tr>\n",
       "    <tr>\n",
       "      <th>truck</th>\n",
       "      <td>77</td>\n",
       "      <td>88</td>\n",
       "      <td>13</td>\n",
       "      <td>19</td>\n",
       "      <td>10</td>\n",
       "      <td>14</td>\n",
       "      <td>25</td>\n",
       "      <td>62</td>\n",
       "      <td>5692</td>\n",
       "    </tr>\n",
       "  </tbody>\n",
       "</table>\n",
       "</div>"
      ],
      "text/plain": [
       "            airplane  automobile  bird   cat  deer  frog  horse  ship  truck\n",
       "airplane        5314          28   124    29    46    17     48   248    146\n",
       "automobile        99        5272    12    14     6     6     16    49    526\n",
       "bird             133           5  4902   409   265   156     94    26     10\n",
       "cat               34           4   306  5052   174   226    146    28     30\n",
       "deer              46           2   306   217  5089   148    157    24     11\n",
       "frog              19           2   141   310   148  5324     34    13      9\n",
       "horse             22           3    94   339   224    13   5253    22     30\n",
       "ship             179          22    29    17     6     7     17  5635     88\n",
       "truck             77          88    13    19    10    14     25    62   5692"
      ]
     },
     "execution_count": 69,
     "metadata": {},
     "output_type": "execute_result"
    }
   ],
   "source": [
    "## for images already seen\n",
    "yhat_nodog = predict_by_model(ss_X, ss_y, model, X_nodog)\n",
    "NODOG_LABELS = [l for l in LABELS if l != \"dog\"]\n",
    "cm = pd.DataFrame(confusion_matrix(label_nodog, yhat_nodog), \n",
    "                  index = NODOG_LABELS, columns=NODOG_LABELS)\n",
    "cm"
   ]
  },
  {
   "cell_type": "code",
   "execution_count": 72,
   "metadata": {
    "collapsed": false
   },
   "outputs": [
    {
     "data": {
      "text/plain": [
       "Counter({'cat': 3830, 'bird': 629, 'horse': 622, 'deer': 522, 'frog': 317, 'truck': 32, 'airplane': 24, 'ship': 16, 'automobile': 8})"
      ]
     },
     "execution_count": 72,
     "metadata": {},
     "output_type": "execute_result"
    }
   ],
   "source": [
    "## for unseen (dog) images - how are they map to the text\n",
    "yhat_dog = predict_by_model(ss_X, ss_y, model, X_dog)\n",
    "Counter(LABELS[yhat_dog])"
   ]
  },
  {
   "cell_type": "code",
   "execution_count": 73,
   "metadata": {
    "collapsed": false
   },
   "outputs": [
    {
     "data": {
      "text/plain": [
       "array([0, 1, 2, 3, 4, 6, 7, 8, 9])"
      ]
     },
     "execution_count": 73,
     "metadata": {},
     "output_type": "execute_result"
    }
   ],
   "source": [
    "np.unique(yhat_dog)"
   ]
  },
  {
   "cell_type": "code",
   "execution_count": null,
   "metadata": {
    "collapsed": true
   },
   "outputs": [],
   "source": []
  }
 ],
 "metadata": {
  "kernelspec": {
   "display_name": "Python 2",
   "language": "python",
   "name": "python2"
  },
  "language_info": {
   "codemirror_mode": {
    "name": "ipython",
    "version": 2
   },
   "file_extension": ".py",
   "mimetype": "text/x-python",
   "name": "python",
   "nbconvert_exporter": "python",
   "pygments_lexer": "ipython2",
   "version": "2.7.6"
  }
 },
 "nbformat": 4,
 "nbformat_minor": 0
}
