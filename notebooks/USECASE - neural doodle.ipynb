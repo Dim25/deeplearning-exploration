{
 "cells": [
  {
   "cell_type": "markdown",
   "metadata": {},
   "source": [
    "# A keras port of neural doodle\n",
    "- patch based method: [neural-doodle](https://github.com/dolaameng/neural-doodle): maybelater\n",
    "- based on style transfer\" [faster-neural-doodle](https://github.com/DmitryUlyanov/fast-neural-doodle)\n",
    "- reusing VGG19 from [deep-learning-model](https://github.com/fchollet/deep-learning-models)\n",
    "- try to modify directly on [nerual_style example](https://github.com/fchollet/keras/blob/master/examples/neural_style_transfer.py)"
   ]
  },
  {
   "cell_type": "code",
   "execution_count": 4,
   "metadata": {
    "collapsed": false
   },
   "outputs": [],
   "source": [
    "import numpy as np\n",
    "from keras.models import Model, Sequential\n",
    "from keras.layers import Convolution2D, MaxPooling2D, merge, Input\n",
    "import keras.backend as K\n",
    "from keras.utils import visualize_util\n",
    "from IPython.display import SVG\n",
    "from keras.preprocessing.image import load_img"
   ]
  },
  {
   "cell_type": "markdown",
   "metadata": {},
   "source": [
    "## build vgg19 network"
   ]
  },
  {
   "cell_type": "code",
   "execution_count": 2,
   "metadata": {
    "collapsed": false
   },
   "outputs": [],
   "source": [
    "\n",
    "image_input = Input(shape=(3, None, None), name='image_input')\n",
    "\n",
    "# Block 1\n",
    "x = Convolution2D(64, 3, 3, activation='relu', border_mode='same',name='conv1_1')(image_input)\n",
    "x = Convolution2D(64, 3, 3, activation='relu', border_mode='same', name='conv1_2')(x)\n",
    "x = MaxPooling2D((2, 2), strides=(2, 2), name='pool1')(x)\n",
    "\n",
    "# Block 2\n",
    "x = Convolution2D(128, 3, 3, activation='relu', border_mode='same', name='conv2_1')(x)\n",
    "x = Convolution2D(128, 3, 3, activation='relu', border_mode='same', name='conv2_2')(x)\n",
    "x = MaxPooling2D((2, 2), strides=(2, 2), name='pool2')(x)\n",
    "\n",
    "# Block 3\n",
    "x = Convolution2D(256, 3, 3, activation='relu', border_mode='same', name='conv3_1')(x)\n",
    "x = Convolution2D(256, 3, 3, activation='relu', border_mode='same', name='conv3_2')(x)\n",
    "x = Convolution2D(256, 3, 3, activation='relu', border_mode='same', name='conv3_3')(x)\n",
    "x = Convolution2D(256, 3, 3, activation='relu', border_mode='same', name='conv3_4')(x)\n",
    "x = MaxPooling2D((2, 2), strides=(2, 2), name='pool3')(x)\n",
    "\n",
    "# Block 4\n",
    "x = Convolution2D(512, 3, 3, activation='relu', border_mode='same', name='conv4_1')(x)\n",
    "x = Convolution2D(512, 3, 3, activation='relu', border_mode='same', name='conv4_2')(x)\n",
    "x = Convolution2D(512, 3, 3, activation='relu', border_mode='same', name='conv4_3')(x)\n",
    "x = Convolution2D(512, 3, 3, activation='relu', border_mode='same', name='conv4_4')(x)\n",
    "x = MaxPooling2D((2, 2), strides=(2, 2), name='pool4')(x)\n",
    "\n",
    "# Block 5\n",
    "x = Convolution2D(512, 3, 3, activation='relu', border_mode='same', name='conv5_1')(x)\n",
    "x = Convolution2D(512, 3, 3, activation='relu', border_mode='same', name='conv5_2')(x)\n",
    "x = Convolution2D(512, 3, 3, activation='relu', border_mode='same', name='conv5_3')(x)\n",
    "x = Convolution2D(512, 3, 3, activation='relu', border_mode='same', name='conv5_4')(x)\n",
    "\n",
    "vgg19 = Model(input=[image_input], output=[x])\n",
    "vgg19.load_weights(\"/home/dola/.keras/models/vgg19_weights_th_dim_ordering_th_kernels_notop.h5\")"
   ]
  },
  {
   "cell_type": "code",
   "execution_count": 5,
   "metadata": {
    "collapsed": true
   },
   "outputs": [],
   "source": [
    "## nb of colors in the mask file\n",
    "nb_mask_channels = 4\n",
    "## each input \n",
    "mask_inputs = [Input(shape = (1, None, None), name=\"mask_input%i\"%i) \n",
    "               for i in xrange(nb_mask_channels)]\n",
    "\n",
    "masked_outputs = []\n",
    "for vgg_layer in vgg19.layers:\n",
    "    if 'conv' in vgg_layer.name:\n",
    "        suffix = vgg_layer.name[4:]\n",
    "        i_block, i_layer = map(int, suffix.split('_'))\n",
    "        if i_layer == 1:\n",
    "            pool_size = 2 ** (i_block - 1)\n",
    "            pool_layer = MaxPooling2D((pool_size, pool_size), name=\"semantic_pool%i\"%i_block)\n",
    "            masks = [pool_layer(mask_input) for mask_input in mask_inputs]\n",
    "            masked_feature = \n",
    "        masked_features.extend()"
   ]
  },
  {
   "cell_type": "code",
   "execution_count": null,
   "metadata": {
    "collapsed": true
   },
   "outputs": [],
   "source": []
  }
 ],
 "metadata": {
  "kernelspec": {
   "display_name": "Python 2",
   "language": "python",
   "name": "python2"
  },
  "language_info": {
   "codemirror_mode": {
    "name": "ipython",
    "version": 2
   },
   "file_extension": ".py",
   "mimetype": "text/x-python",
   "name": "python",
   "nbconvert_exporter": "python",
   "pygments_lexer": "ipython2",
   "version": "2.7.6"
  }
 },
 "nbformat": 4,
 "nbformat_minor": 1
}
