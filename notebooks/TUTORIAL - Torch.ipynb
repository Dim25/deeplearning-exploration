{
 "cells": [
  {
   "cell_type": "code",
   "execution_count": 1,
   "metadata": {
    "collapsed": false
   },
   "outputs": [],
   "source": [
    "require 'nn';\n",
    "require 'image';\n",
    "require 'torch';\n",
    "require 'dataset-mnist'; --- script from https://github.com/torch/demos/blob/master/train-a-digit-classifier/dataset-mnist.lua\n",
    "mnist = require 'mnist'; -- install mnist loader by \"luarocks install https://raw.github.com/andresy/mnist/master/rocks/mnist-scm-1.rockspec\"\n",
    "require 'itorch'"
   ]
  },
  {
   "cell_type": "markdown",
   "metadata": {},
   "source": [
    "### Load dataset"
   ]
  },
  {
   "cell_type": "code",
   "execution_count": 2,
   "metadata": {
    "collapsed": false
   },
   "outputs": [
    {
     "data": {
      "text/plain": [
       " 60000\n",
       "    28\n",
       "    28\n",
       "[torch.LongStorage of size 3]\n",
       "\n",
       " 10000\n",
       "    28\n",
       "    28\n",
       "[torch.LongStorage of size 3]\n",
       "\n"
      ]
     },
     "execution_count": 2,
     "metadata": {},
     "output_type": "execute_result"
    },
    {
     "data": {
      "image/png": "[encoded data removed]",
      "text/plain": [
       "Console does not support images"
      ]
     },
     "metadata": {
      "image/png": {
       "height": 28,
       "width": 28
      }
     },
     "output_type": "display_data"
    },
    {
     "data": {
      "text/plain": [
       "5\t\n"
      ]
     },
     "execution_count": 2,
     "metadata": {},
     "output_type": "execute_result"
    }
   ],
   "source": [
    "trainset = mnist.traindataset()\n",
    "trainset.data = trainset.data:double() -- convert to DoubleTensor\n",
    "trainset.label:add(1) --class label cannot be 0\n",
    "testset = mnist.testdataset()\n",
    "testset.data = testset.data:double() -- convert to DoubleTensor\n",
    "testset.label:add(1)\n",
    "\n",
    "print(trainset.data:size())\n",
    "print(testset.data:size())\n",
    "\n",
    "itorch.image(trainset.data[10])\n",
    "print(trainset.label[10])\n",
    "\n",
    "setmetatable(trainset,  -- to be used in Stochastic Gradient \n",
    "    {__index = function(t, i) \n",
    "                    return {t.data[i], t.label[i]} \n",
    "                end}\n",
    ");\n",
    "\n",
    "function trainset:size() -- torch will call trainset:size() during training\n",
    "    return self.data:size(1) \n",
    "end\n",
    "\n",
    "-- normalization\n",
    "mean = trainset.data:mean()\n",
    "trainset.data:add(-mean) \n",
    "std = trainset.data:std()\n",
    "trainset.data:div(std)"
   ]
  },
  {
   "cell_type": "markdown",
   "metadata": {},
   "source": [
    "### Train MNIST using MLP"
   ]
  },
  {
   "cell_type": "code",
   "execution_count": 5,
   "metadata": {
    "collapsed": false
   },
   "outputs": [],
   "source": [
    "--model\n",
    "mlp = nn.Sequential()\n",
    "mlp:add(nn.View(28*28))\n",
    "mlp:add(nn.Linear(28*28,128))\n",
    "mlp:add(nn.ReLU())\n",
    "mlp:add(nn.Dropout(0.2))\n",
    "mlp:add(nn.Linear(128,128))\n",
    "mlp:add(nn.ReLU())\n",
    "mlp:add(nn.Dropout(0.2))\n",
    "mlp:add(nn.Linear(128,10))\n",
    "mlp:add(nn.LogSoftMax())\n",
    "-- loss function\n",
    "criterion_mlp = nn.ClassNLLCriterion()"
   ]
  },
  {
   "cell_type": "code",
   "execution_count": null,
   "metadata": {
    "collapsed": false
   },
   "outputs": [
    {
     "data": {
      "text/plain": [
       "# StochasticGradient: training\t\n"
      ]
     },
     "execution_count": 6,
     "metadata": {},
     "output_type": "execute_result"
    }
   ],
   "source": [
    "--training\n",
    "trainer_mlp = nn.StochasticGradient(mlp,criterion_mlp)\n",
    "trainer_mlp.learningRate = 0.1\n",
    "trainer_mlp.maxIteration = 5\n",
    "\n",
    "\n",
    "trainer_mlp:train(trainset)"
   ]
  },
  {
   "cell_type": "code",
   "execution_count": null,
   "metadata": {
    "collapsed": true
   },
   "outputs": [],
   "source": [
    "--- training with 9 CPUs and 16G memory\n",
    "correct = 0\n",
    "for i=1,10000 do\n",
    "    groundtruth = testset.label[i]\n",
    "    prediction = net:forward(testset.data[i])\n",
    "    confidences, indices = torch.sort(prediction, true)  -- true means sort in descending order\n",
    "    if groundtruth == indices[1] then\n",
    "        correct = correct + 1\n",
    "    end\n",
    "end\n",
    "\n",
    "print(correct, 100*correct/10000 .. ' % ')"
   ]
  },
  {
   "cell_type": "markdown",
   "metadata": {},
   "source": [
    "### Train MNIST using CNN"
   ]
  },
  {
   "cell_type": "code",
   "execution_count": null,
   "metadata": {
    "collapsed": false
   },
   "outputs": [],
   "source": [
    "cnn = nn.Sequential()\n",
    "cnn:add(nn.SpatialConvolution(1,32,3,3))\n",
    "cnn:add(nn.ReLU())\n",
    "cnn:add(nn.SpatialConvolution(32,32,3,3))\n",
    "cnn:add(nn.ReLU())\n",
    "cnn:add(nn.SpatialMaxPooling(2,2,2,2))\n",
    "cnn:add(nn.SpatialDropout(0.25))\n",
    "cnn:add(nn.View())\n",
    "cnn:add(nn.Linear(32*12*12,128))\n",
    "cnn:add(nn.ReLU())\n",
    "cnn:add(nn.SpatialDropout(0.5))\n",
    "cnn:add(nn.Linear(128,10))\n",
    "cnn:add(nn.LogSoftMax())\n",
    "criterion = nn.ClassNLLCriterion()\n",
    "\n",
    "print(cnn)"
   ]
  },
  {
   "cell_type": "code",
   "execution_count": null,
   "metadata": {
    "collapsed": true
   },
   "outputs": [],
   "source": []
  }
 ],
 "metadata": {
  "kernelspec": {
   "display_name": "iTorch",
   "language": "lua",
   "name": "itorch"
  },
  "language_info": {
   "name": "lua",
   "version": "5.1"
  }
 },
 "nbformat": 4,
 "nbformat_minor": 0
}
