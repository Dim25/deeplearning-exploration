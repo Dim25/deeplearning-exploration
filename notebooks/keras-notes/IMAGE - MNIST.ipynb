{
 "cells": [
  {
   "cell_type": "markdown",
   "metadata": {},
   "source": [
    "# Summary of Keras Examples on MNIST\n",
    "\n",
    "- [Keras Code Examples](https://github.com/fchollet/keras/tree/master/examples)"
   ]
  },
  {
   "cell_type": "markdown",
   "metadata": {},
   "source": [
    "### Load Data\n",
    "- Good habit to normalize inputs\n",
    "- Didn't make the inputs zero-centred"
   ]
  },
  {
   "cell_type": "code",
   "execution_count": 1,
   "metadata": {
    "collapsed": false
   },
   "outputs": [
    {
     "name": "stderr",
     "output_type": "stream",
     "text": [
      "Using Theano backend.\n",
      "Using gpu device 0: GeForce GTX 980M (CNMeM is disabled, cuDNN 5005)\n"
     ]
    }
   ],
   "source": [
    "import keras"
   ]
  },
  {
   "cell_type": "code",
   "execution_count": 2,
   "metadata": {
    "collapsed": true
   },
   "outputs": [],
   "source": [
    "%matplotlib inline\n",
    "import matplotlib.pyplot as plt\n",
    "import numpy as np"
   ]
  },
  {
   "cell_type": "code",
   "execution_count": 20,
   "metadata": {
    "collapsed": false
   },
   "outputs": [],
   "source": [
    "from keras import models, layers, initializations\n",
    "from keras.utils import np_utils\n",
    "from keras import backend as K"
   ]
  },
  {
   "cell_type": "code",
   "execution_count": 4,
   "metadata": {
    "collapsed": false
   },
   "outputs": [
    {
     "name": "stdout",
     "output_type": "stream",
     "text": [
      "(60000, 28, 28) (10000, 28, 28) 0.0 1.0\n",
      "(60000,) (10000,)\n"
     ]
    }
   ],
   "source": [
    "from keras.datasets import mnist\n",
    "\n",
    "mnist = mnist.load_data()\n",
    "(train_x, train_y), (test_x, test_y) = mnist\n",
    "\n",
    "\n",
    "train_x = train_x / 255.\n",
    "test_x = test_x / 255.\n",
    "\n",
    "print train_x.shape, test_x.shape, train_x.min(), train_x.max()\n",
    "print train_y.shape, test_y.shape"
   ]
  },
  {
   "cell_type": "code",
   "execution_count": 5,
   "metadata": {
    "collapsed": false
   },
   "outputs": [
    {
     "data": {
      "text/plain": [
       "<matplotlib.text.Text at 0x7fed93fc2150>"
      ]
     },
     "execution_count": 5,
     "metadata": {},
     "output_type": "execute_result"
    },
    {
     "data": {
      "image/png": "[encoded data removed]",
      "text/plain": [
       "<matplotlib.figure.Figure at 0x7fed9c074090>"
      ]
     },
     "metadata": {},
     "output_type": "display_data"
    }
   ],
   "source": [
    "i = np.random.randint(0, train_x.shape[0])\n",
    "plt.imshow(train_x[i,:], cmap = plt.cm.gray)\n",
    "plt.title(train_y[i])"
   ]
  },
  {
   "cell_type": "code",
   "execution_count": 21,
   "metadata": {
    "collapsed": false
   },
   "outputs": [
    {
     "name": "stdout",
     "output_type": "stream",
     "text": [
      "(60000, 10) (10000, 10)\n"
     ]
    }
   ],
   "source": [
    "train_y = np_utils.to_categorical(train_y)\n",
    "test_y = np_utils.to_categorical(test_y)\n",
    "print train_y.shape, test_y.shape"
   ]
  },
  {
   "cell_type": "markdown",
   "metadata": {},
   "source": [
    "## Baseline - MLP\n",
    "- ignored"
   ]
  },
  {
   "cell_type": "markdown",
   "metadata": {},
   "source": [
    "## CNN - what features look like\n",
    "- shadow VGG-like"
   ]
  },
  {
   "cell_type": "code",
   "execution_count": 6,
   "metadata": {
    "collapsed": false
   },
   "outputs": [
    {
     "data": {
      "text/plain": [
       "'th'"
      ]
     },
     "execution_count": 6,
     "metadata": {},
     "output_type": "execute_result"
    }
   ],
   "source": [
    "K.image_dim_ordering()"
   ]
  },
  {
   "cell_type": "code",
   "execution_count": 28,
   "metadata": {
    "collapsed": false
   },
   "outputs": [],
   "source": [
    "image = layers.Input(shape = (1, 28, 28))\n",
    "\n",
    "\n",
    "image_model = models.Sequential()\n",
    "image_model.add(layers.Convolution2D(32, 3, 3, activation=\"relu\", \n",
    "                                     input_shape = (1, 28, 28)))\n",
    "image_model.add(layers.Convolution2D(32, 3, 3, activation=\"relu\"))\n",
    "image_model.add(layers.MaxPooling2D( (2, 2) ))\n",
    "image_model.add(layers.Dropout(0.25))\n",
    "image_model.add(layers.Flatten())\n",
    "\n",
    "feats = image_model(image)\n",
    "\n",
    "classifier_model = models.Sequential()\n",
    "classifier_model.add(layers.Dense(output_dim=128, \n",
    "                                  batch_input_shape = image_model.output_shape,\n",
    "                                  activation = \"relu\"))\n",
    "classifier_model.add(layers.Dense(output_dim = 10, activation=\"softmax\"))\n",
    "\n",
    "scores = classifier_model(feats)\n",
    "\n",
    "model = models.Model(input = image, output=scores)\n",
    "model.compile(loss = \"categorical_crossentropy\", optimizer = \"rmsprop\", \n",
    "         metrics = [\"accuracy\"])"
   ]
  },
  {
   "cell_type": "code",
   "execution_count": 29,
   "metadata": {
    "collapsed": false
   },
   "outputs": [
    {
     "name": "stdout",
     "output_type": "stream",
     "text": [
      "Train on 60000 samples, validate on 10000 samples\n",
      "Epoch 1/5\n",
      "60000/60000 [==============================] - 10s - loss: 0.1368 - acc: 0.9580 - val_loss: 0.0466 - val_acc: 0.9852\n",
      "Epoch 2/5\n",
      "60000/60000 [==============================] - 10s - loss: 0.0471 - acc: 0.9853 - val_loss: 0.0341 - val_acc: 0.9898\n",
      "Epoch 3/5\n",
      "60000/60000 [==============================] - 10s - loss: 0.0356 - acc: 0.9890 - val_loss: 0.0338 - val_acc: 0.9887\n",
      "Epoch 4/5\n",
      "60000/60000 [==============================] - 10s - loss: 0.0283 - acc: 0.9912 - val_loss: 0.0408 - val_acc: 0.9868\n",
      "Epoch 5/5\n",
      "60000/60000 [==============================] - 10s - loss: 0.0228 - acc: 0.9930 - val_loss: 0.0318 - val_acc: 0.9905\n"
     ]
    },
    {
     "data": {
      "text/plain": [
       "<keras.callbacks.History at 0x7fed662fd410>"
      ]
     },
     "execution_count": 29,
     "metadata": {},
     "output_type": "execute_result"
    }
   ],
   "source": [
    "model.fit(train_x.reshape(-1, 1, 28, 28), \n",
    "          train_y, \n",
    "          validation_data = (test_x.reshape(-1, 1, 28, 28), test_y),\n",
    "          batch_size = 64, nb_epoch = 5)"
   ]
  },
  {
   "cell_type": "code",
   "execution_count": 37,
   "metadata": {
    "collapsed": false
   },
   "outputs": [],
   "source": [
    "get_img_feat = K.function(inputs = [image, K.learning_phase()], outputs = [feats])"
   ]
  },
  {
   "cell_type": "code",
   "execution_count": 50,
   "metadata": {
    "collapsed": false
   },
   "outputs": [
    {
     "name": "stdout",
     "output_type": "stream",
     "text": [
      "(50, 4608)\n"
     ]
    },
    {
     "data": {
      "text/plain": [
       "True"
      ]
     },
     "execution_count": 50,
     "metadata": {},
     "output_type": "execute_result"
    }
   ],
   "source": [
    "img_feat = get_img_feat([train_x[:50].reshape(50, 1, 28, 28), 0])[0]\n",
    "print img_feat.shape\n",
    "img_feat.shape[1] == 32 * 12 * 12"
   ]
  },
  {
   "cell_type": "markdown",
   "metadata": {},
   "source": [
    "# TODO"
   ]
  },
  {
   "cell_type": "code",
   "execution_count": 59,
   "metadata": {
    "collapsed": false
   },
   "outputs": [
    {
     "data": {
      "text/plain": [
       "<matplotlib.image.AxesImage at 0x7fed60eca5d0>"
      ]
     },
     "execution_count": 59,
     "metadata": {},
     "output_type": "execute_result"
    },
    {
     "data": {
      "image/png": "[encoded data removed]",
      "text/plain": [
       "<matplotlib.figure.Figure at 0x7fed60f4dc10>"
      ]
     },
     "metadata": {},
     "output_type": "display_data"
    }
   ],
   "source": [
    "plt.imshow(img_feat.reshape(50, 32, 12, 12)[0, 3], cmap = plt.cm.gray)"
   ]
  },
  {
   "cell_type": "markdown",
   "metadata": {},
   "source": [
    "## Simple RNN with smart Initialization\n",
    "- Image augmentation?"
   ]
  },
  {
   "cell_type": "code",
   "execution_count": null,
   "metadata": {
    "collapsed": true
   },
   "outputs": [],
   "source": []
  }
 ],
 "metadata": {
  "kernelspec": {
   "display_name": "Python 2",
   "language": "python",
   "name": "python2"
  },
  "language_info": {
   "codemirror_mode": {
    "name": "ipython",
    "version": 2
   },
   "file_extension": ".py",
   "mimetype": "text/x-python",
   "name": "python",
   "nbconvert_exporter": "python",
   "pygments_lexer": "ipython2",
   "version": "2.7.6"
  }
 },
 "nbformat": 4,
 "nbformat_minor": 0
}
