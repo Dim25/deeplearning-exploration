{
 "cells": [
  {
   "cell_type": "markdown",
   "metadata": {},
   "source": [
    "# Generative Adversarial Model in Keras with MNIST data\n",
    "\n",
    "## 1. it is a learning note of the original post [MNIST Generative Adversaial Model in Keras](https://oshearesearch.com/index.php/2016/07/01/mnist-generative-adversarial-model-in-keras/) - all credits are for original writers.\n",
    "## 2. Original GAN Paper - [Generative Advesarial Networks](http://arxiv.org/abs/1406.2661)\n",
    "## 3. [Ipython Notebook Demostration](https://github.com/osh/KerasGAN)"
   ]
  },
  {
   "cell_type": "markdown",
   "metadata": {},
   "source": [
    "## What is GAN\n",
    "- ___A Generative Model___ to generate target outputs from nothing (e.g., pure random noise).\n",
    "- ___An Adversarial Model___ trained to distringuish a real output (e.g., from nature) and a generated output (from generative model).\n",
    "- Two models stacked together to be trained in a competative way, so that performances of both are improved.\n",
    "\n",
    "## Notes for pratical implementations\n",
    "Some notes taken during my re-implementation of the simple model\n",
    "1. Adversarial models are usually pretrained to speed up the convergence of both models. \n",
    "    - However, if it is overfitted (e.g., by seeing only a specific pattern of data, with a large learning rate), the overfitted adversarial model might block the training of generative model (becsause it is stacked on top of the generative model).\n",
    "    - In practice I need to be very careful with the ___randomness of mnist data for pretraining adversarial model___ and ___using a relatively small learning rate___ to prevent overfitting.\n",
    "    - Underfitting adversarial models at pretraining seems to slow down GAN, but less harmful compared to overfitting?\n",
    "2. The training of generative model is better with a frozen adversarial head (when they are stacked), but since I am not totally confident whether the adversarial is really frozen (there is some confusion about how to using `trainable` to control the model state, e.g., it is inconsistent with `get_configuration()`), I dont know whether this is significant.\n",
    "    - Using batchNormalization is a key part in generative model training - it speeds up the convergence quite a lot\n",
    "3. There should be an balance between the learnings (competitions) of geneative and adversarial models\n",
    "    - If the adversarial model is learning faster, the generative model will have hard time catching up - and even got blocked sometime (not sure why)\n",
    "    - if the geneative model is learning faster and the adversarial model is not learning enough, both might end with non-satisfactory convergence and either performs well.\n",
    "    - It's often observed that the error curves of the two models are competing and finally converging to a realatively stable state"
   ]
  },
  {
   "cell_type": "markdown",
   "metadata": {},
   "source": [
    "## Generative Model\n",
    "- Generate MNIST images from 100 random numbers\n",
    "- Model structure:\n",
    "    - Map random inputs to 200*14*14 feature map\n",
    "    - Upsample it to desired target size, i.e., 28*28\n",
    "    - Then apply a series of conv filters (to make it locally smooth?).\n",
    "    - The final layer is `sigmoid` to make the image between 0 ~ 1\n",
    "    - BatchNormalization is used across to speed up the convergence"
   ]
  },
  {
   "cell_type": "code",
   "execution_count": 1,
   "metadata": {
    "collapsed": true
   },
   "outputs": [],
   "source": [
    "import os\n",
    "# make it explict and simple to test\n",
    "os.environ['KERAS_BACKEND'] = 'theano' \n",
    "import numpy as np\n",
    "import matplotlib.pyplot as plt\n",
    "\n",
    "import tqdm\n",
    "from IPython import display\n",
    "\n",
    "%matplotlib inline"
   ]
  },
  {
   "cell_type": "code",
   "execution_count": 2,
   "metadata": {
    "collapsed": false
   },
   "outputs": [
    {
     "name": "stderr",
     "output_type": "stream",
     "text": [
      "Using Theano backend.\n",
      "Using gpu device 0: GeForce GTX 980M (CNMeM is enabled with initial size: 10.0% of memory, cuDNN 5103)\n"
     ]
    }
   ],
   "source": [
    "from keras.models import Model, Sequential\n",
    "import keras.backend as K\n",
    "from keras.layers import Input, BatchNormalization, Flatten\n",
    "from keras.layers import UpSampling2D, Conv2D, Dropout, Convolution2D\n",
    "from keras.layers import Reshape, Activation, Dense, LeakyReLU\n",
    "from keras.optimizers import Adam\n",
    "from keras.utils.np_utils import to_categorical\n",
    "from keras.datasets import mnist\n",
    "from sklearn.utils import shuffle"
   ]
  },
  {
   "cell_type": "markdown",
   "metadata": {},
   "source": [
    "Need to explicitly spell out axis=1 in new version of BatchNormalization in Keras. See [discussions](https://github.com/fchollet/keras/issues/3888). BatchNorm is very important to the performance.\n",
    "\n",
    "It is important to use BatchNormalization to speed up"
   ]
  },
  {
   "cell_type": "code",
   "execution_count": 3,
   "metadata": {
    "collapsed": true
   },
   "outputs": [],
   "source": [
    "nb_filters = 200\n",
    "\n",
    "gi = Input(shape = (100, ))\n",
    "go = Dense(nb_filters*14*14, init='glorot_normal')(gi)\n",
    "## put BN after relu?\n",
    "go = BatchNormalization(mode=2, axis=1)(go)\n",
    "go = Activation('relu')(go)\n",
    "\n",
    "go = Reshape((nb_filters, 14, 14))(go)\n",
    "# now the right image size\n",
    "go = UpSampling2D((2, 2))(go)\n",
    "\n",
    "# filtering, filtering to make it has \n",
    "# enough capability to learn\n",
    "go = Conv2D(nb_filters / 2, 3, 3, \n",
    "            border_mode='same')(go)\n",
    "go = BatchNormalization(mode=2, axis=1)(go)\n",
    "go = Activation('relu')(go)\n",
    "\n",
    "go = Conv2D(nb_filters / 4, 3, 3, \n",
    "            border_mode='same')(go)\n",
    "go = BatchNormalization(mode=2, axis=1)(go)\n",
    "go = Activation('relu')(go)\n",
    "\n",
    "go = Conv2D(1, 1, 1, \n",
    "            border_mode='same', activation='sigmoid')(go)\n",
    "\n",
    "generative_model = Model(input=gi, output=go)\n",
    "generative_model.compile(loss=\"binary_crossentropy\", optimizer='adam')"
   ]
  },
  {
   "cell_type": "code",
   "execution_count": 4,
   "metadata": {
    "collapsed": false
   },
   "outputs": [
    {
     "name": "stdout",
     "output_type": "stream",
     "text": [
      "____________________________________________________________________________________________________\n",
      "Layer (type)                     Output Shape          Param #     Connected to                     \n",
      "====================================================================================================\n",
      "input_1 (InputLayer)             (None, 100)           0                                            \n",
      "____________________________________________________________________________________________________\n",
      "dense_1 (Dense)                  (None, 39200)         3959200     input_1[0][0]                    \n",
      "____________________________________________________________________________________________________\n",
      "batchnormalization_1 (BatchNormal(None, 39200)         78400       dense_1[0][0]                    \n",
      "____________________________________________________________________________________________________\n",
      "activation_1 (Activation)        (None, 39200)         0           batchnormalization_1[0][0]       \n",
      "____________________________________________________________________________________________________\n",
      "reshape_1 (Reshape)              (None, 200, 14, 14)   0           activation_1[0][0]               \n",
      "____________________________________________________________________________________________________\n",
      "upsampling2d_1 (UpSampling2D)    (None, 200, 28, 28)   0           reshape_1[0][0]                  \n",
      "____________________________________________________________________________________________________\n",
      "convolution2d_1 (Convolution2D)  (None, 100, 28, 28)   180100      upsampling2d_1[0][0]             \n",
      "____________________________________________________________________________________________________\n",
      "batchnormalization_2 (BatchNormal(None, 100, 28, 28)   200         convolution2d_1[0][0]            \n",
      "____________________________________________________________________________________________________\n",
      "activation_2 (Activation)        (None, 100, 28, 28)   0           batchnormalization_2[0][0]       \n",
      "____________________________________________________________________________________________________\n",
      "convolution2d_2 (Convolution2D)  (None, 50, 28, 28)    45050       activation_2[0][0]               \n",
      "____________________________________________________________________________________________________\n",
      "batchnormalization_3 (BatchNormal(None, 50, 28, 28)    100         convolution2d_2[0][0]            \n",
      "____________________________________________________________________________________________________\n",
      "activation_3 (Activation)        (None, 50, 28, 28)    0           batchnormalization_3[0][0]       \n",
      "____________________________________________________________________________________________________\n",
      "convolution2d_3 (Convolution2D)  (None, 1, 28, 28)     51          activation_3[0][0]               \n",
      "====================================================================================================\n",
      "Total params: 4263101\n",
      "____________________________________________________________________________________________________\n",
      "None\n",
      "(1, 28, 28)\n",
      "(1, 28, 28)\n",
      "(1, 28, 28)\n",
      "(1, 28, 28)\n"
     ]
    },
    {
     "data": {
      "image/png": "[encoded data removed]",
      "text/plain": [
       "<matplotlib.figure.Figure at 0x7f86806e5c90>"
      ]
     },
     "metadata": {},
     "output_type": "display_data"
    }
   ],
   "source": [
    "## test generator\n",
    "print generative_model.summary()\n",
    "images = generative_model.predict(np.random.uniform(0, 1, (4, 100)))\n",
    "fig, axes = plt.subplots(2, 2, figsize = (2, 2))\n",
    "axes = axes.ravel()\n",
    "for ax, img in zip(axes, images):\n",
    "    print img.shape\n",
    "    ax.imshow(img[0], cmap=plt.cm.gray)"
   ]
  },
  {
   "cell_type": "raw",
   "metadata": {
    "collapsed": false
   },
   "source": [
    "## test generative model trainable\n",
    "noise = noise_generator(64).next()\n",
    "images = real_image_generator(64).next()\n",
    "generative_model.fit(noise, images, nb_epoch=3)"
   ]
  },
  {
   "cell_type": "markdown",
   "metadata": {},
   "source": [
    "## Adversarial Model\n",
    "- Generally it can be anything that does good job on classifying real and faked images\n",
    "- Use a simple CNN for this purpose\n",
    "- make sure the adversarial model won't overfit easily, e.g., by setting a relatively small learning rate. Otherwise the generative model seems to not be able to learn"
   ]
  },
  {
   "cell_type": "code",
   "execution_count": 5,
   "metadata": {
    "collapsed": false
   },
   "outputs": [],
   "source": [
    "ai = Input(shape=(1, 28, 28))\n",
    "ao = Conv2D(256, 3, 3,\n",
    "            border_mode='same', \n",
    "            activation='relu')(ai)\n",
    "ao = Dropout(0.5)(ao)\n",
    "ao = Conv2D(128, 3, 3,\n",
    "            border_mode='same', \n",
    "            activation='relu')(ao)\n",
    "ao = Dropout(0.5)(ao)\n",
    "ao = Conv2D(64, 3, 3,\n",
    "            border_mode='same', \n",
    "            activation='relu')(ao)\n",
    "ao = Dropout(0.2)(ao)\n",
    "\n",
    "ao = Flatten()(ao)\n",
    "ao = Dense(128, activation='relu')(ao)\n",
    "ao = Dropout(0.5)(ao)\n",
    "ao = Dense(1, activation='sigmoid')(ao)\n",
    "\n",
    "adversarial_model = Model(input=ai, output=ao)\n",
    "adversarial_model.compile(loss='binary_crossentropy', optimizer=Adam(lr=1e-5))"
   ]
  },
  {
   "cell_type": "code",
   "execution_count": 6,
   "metadata": {
    "collapsed": false
   },
   "outputs": [
    {
     "name": "stdout",
     "output_type": "stream",
     "text": [
      "____________________________________________________________________________________________________\n",
      "Layer (type)                     Output Shape          Param #     Connected to                     \n",
      "====================================================================================================\n",
      "input_2 (InputLayer)             (None, 1, 28, 28)     0                                            \n",
      "____________________________________________________________________________________________________\n",
      "convolution2d_4 (Convolution2D)  (None, 256, 28, 28)   2560        input_2[0][0]                    \n",
      "____________________________________________________________________________________________________\n",
      "dropout_1 (Dropout)              (None, 256, 28, 28)   0           convolution2d_4[0][0]            \n",
      "____________________________________________________________________________________________________\n",
      "convolution2d_5 (Convolution2D)  (None, 128, 28, 28)   295040      dropout_1[0][0]                  \n",
      "____________________________________________________________________________________________________\n",
      "dropout_2 (Dropout)              (None, 128, 28, 28)   0           convolution2d_5[0][0]            \n",
      "____________________________________________________________________________________________________\n",
      "convolution2d_6 (Convolution2D)  (None, 64, 28, 28)    73792       dropout_2[0][0]                  \n",
      "____________________________________________________________________________________________________\n",
      "dropout_3 (Dropout)              (None, 64, 28, 28)    0           convolution2d_6[0][0]            \n",
      "____________________________________________________________________________________________________\n",
      "flatten_1 (Flatten)              (None, 50176)         0           dropout_3[0][0]                  \n",
      "____________________________________________________________________________________________________\n",
      "dense_2 (Dense)                  (None, 128)           6422656     flatten_1[0][0]                  \n",
      "____________________________________________________________________________________________________\n",
      "dropout_4 (Dropout)              (None, 128)           0           dense_2[0][0]                    \n",
      "____________________________________________________________________________________________________\n",
      "dense_3 (Dense)                  (None, 1)             129         dropout_4[0][0]                  \n",
      "====================================================================================================\n",
      "Total params: 6794177\n",
      "____________________________________________________________________________________________________\n",
      "None\n"
     ]
    },
    {
     "data": {
      "text/plain": [
       "array([[ 0.49697122],\n",
       "       [ 0.49390838],\n",
       "       [ 0.49874809],\n",
       "       [ 0.49443501]], dtype=float32)"
      ]
     },
     "execution_count": 6,
     "metadata": {},
     "output_type": "execute_result"
    }
   ],
   "source": [
    "# test adversarial_model\n",
    "print adversarial_model.summary()\n",
    "# 0.5 means it is not sure about anything\n",
    "adversarial_model.predict(images)"
   ]
  },
  {
   "cell_type": "markdown",
   "metadata": {},
   "source": [
    "## Generative Adversarial Network Model as a Stack"
   ]
  },
  {
   "cell_type": "code",
   "execution_count": 7,
   "metadata": {
    "collapsed": true
   },
   "outputs": [],
   "source": [
    "def toggle_trainable(net, val):\n",
    "    net.trainable = val\n",
    "    for l in net.layers:\n",
    "        l.trainable = val"
   ]
  },
  {
   "cell_type": "code",
   "execution_count": 8,
   "metadata": {
    "collapsed": false
   },
   "outputs": [],
   "source": [
    "toggle_trainable(adversarial_model, False)\n",
    "\n",
    "gan_input = Input(shape = (100,))\n",
    "h = generative_model(gan_input)\n",
    "gan_output = adversarial_model(h)\n",
    "\n",
    "# adversarial_model.trainable = False\n",
    "# for layer in adversarial_model.layers:\n",
    "#     layer.trainable = False\n",
    "    \n",
    "gan_model = Model(input = gan_input, output = gan_output)\n",
    "gan_model.compile(loss='binary_crossentropy', optimizer=Adam(lr=5e-4))\n",
    "\n",
    "# adversarial_model.trainable = True\n",
    "# for layer in adversarial_model.layers:\n",
    "#     layer.trainable = True\n",
    "\n"
   ]
  },
  {
   "cell_type": "code",
   "execution_count": 9,
   "metadata": {
    "collapsed": false
   },
   "outputs": [
    {
     "name": "stdout",
     "output_type": "stream",
     "text": [
      "(4, 1)\n",
      "[[ 0.49557543]\n",
      " [ 0.49604407]\n",
      " [ 0.50045836]\n",
      " [ 0.496326  ]]\n"
     ]
    }
   ],
   "source": [
    "# test gan model\n",
    "seed = np.random.uniform(0, 1, (4, 100))\n",
    "image_labels = gan_model.predict(seed)\n",
    "print image_labels.shape\n",
    "## all faked images - output all zeros\n",
    "print image_labels"
   ]
  },
  {
   "cell_type": "markdown",
   "metadata": {},
   "source": [
    "## pretrain the adversarial model\n",
    "Quoted from original post\n",
    "```\n",
    "We pre-train the discriminative model by generating a handful of random images using the untrained generative model, concatenating them with an equal number of real images of digits, labeling them appropriately, and then fitting until we reach a relatively stable loss value which takes 1 epoch over 20,000 examples.  This is an important step which should not be skipped — pre-training accelerates the GAN massively and I was not able to achieve convergence without it (possibly due to impatience).\n",
    "```"
   ]
  },
  {
   "cell_type": "code",
   "execution_count": 10,
   "metadata": {
    "collapsed": true
   },
   "outputs": [],
   "source": [
    "nb_samples = 10000"
   ]
  },
  {
   "cell_type": "code",
   "execution_count": 11,
   "metadata": {
    "collapsed": false
   },
   "outputs": [
    {
     "name": "stdout",
     "output_type": "stream",
     "text": [
      "(60000, 28, 28) (10000, 28, 28)\n",
      "(60000,) (10000,)\n",
      "(10000, 1, 28, 28)\n",
      "0.0 1.0\n"
     ]
    }
   ],
   "source": [
    "## load real images from mnist data\n",
    "(train_x, train_y), (test_x, test_y) = mnist.load_data()\n",
    "print train_x.shape, test_x.shape\n",
    "print train_y.shape, test_y.shape\n",
    "real_images = np.concatenate([train_x, test_x], axis=0)\n",
    "real_images = np.expand_dims(real_images, axis = 1).astype(np.float32)\n",
    "real_images = real_images / 255.\n",
    "i = np.random.randint(0, real_images.shape[0], nb_samples)\n",
    "#real_images = real_images[:nb_samples]\n",
    "real_images = real_images[i,...]\n",
    "print real_images.shape\n",
    "print real_images.min(), real_images.max()"
   ]
  },
  {
   "cell_type": "code",
   "execution_count": 12,
   "metadata": {
    "collapsed": false
   },
   "outputs": [
    {
     "name": "stdout",
     "output_type": "stream",
     "text": [
      "(10000, 1, 28, 28)\n",
      "0.0225055 0.984333\n"
     ]
    }
   ],
   "source": [
    "## generate faked images from untrained generative model\n",
    "seeds = np.random.uniform(0, 1, (nb_samples, 100))\n",
    "faked_images = generative_model.predict(seeds)\n",
    "print faked_images.shape\n",
    "print faked_images.min(), faked_images.max()"
   ]
  },
  {
   "cell_type": "code",
   "execution_count": 13,
   "metadata": {
    "collapsed": false
   },
   "outputs": [
    {
     "name": "stdout",
     "output_type": "stream",
     "text": [
      "(20000, 1, 28, 28) (20000, 1)\n"
     ]
    }
   ],
   "source": [
    "## generate train data\n",
    "x = np.concatenate([real_images, faked_images], axis=0)\n",
    "# real images - 1, faked images - 0\n",
    "y = np.repeat([1, 0], nb_samples).astype(np.float32)\n",
    "#y = to_categorical(y)\n",
    "y = y.reshape((-1, 1))\n",
    "# randomly shuffle the data\n",
    "x, y = shuffle(x, y)\n",
    "print x.shape, y.shape"
   ]
  },
  {
   "cell_type": "code",
   "execution_count": 14,
   "metadata": {
    "collapsed": false
   },
   "outputs": [
    {
     "name": "stdout",
     "output_type": "stream",
     "text": [
      "Epoch 1/1\n",
      "20000/20000 [==============================] - 31s - loss: 0.1597    \n"
     ]
    },
    {
     "data": {
      "text/plain": [
       "<keras.callbacks.History at 0x7f8660a1ef90>"
      ]
     },
     "execution_count": 14,
     "metadata": {},
     "output_type": "execute_result"
    }
   ],
   "source": [
    "## pretrain adversarial model\n",
    "toggle_trainable(adversarial_model, True)\n",
    "\n",
    "adversarial_model.fit(x, y, nb_epoch=1,\n",
    "                      batch_size=128)"
   ]
  },
  {
   "cell_type": "markdown",
   "metadata": {},
   "source": [
    "make sure it won't overfit easily"
   ]
  },
  {
   "cell_type": "code",
   "execution_count": 15,
   "metadata": {
    "collapsed": false
   },
   "outputs": [
    {
     "name": "stdout",
     "output_type": "stream",
     "text": [
      "accuracy: 1.0\n"
     ]
    }
   ],
   "source": [
    "## check pretrained adversarial model\n",
    "yhat = adversarial_model.predict(x)\n",
    "print \"accuracy:\", np.mean( (yhat[:, 0] > 0.5) == y[:,0] )\n",
    "#print \"accuracy:\", np.mean( np.argmax(yhat) == np.argmax(y) )"
   ]
  },
  {
   "cell_type": "markdown",
   "metadata": {},
   "source": [
    "## training of GAN\n",
    "Typically, it involves iterations of 3 main steps,\n",
    "\n",
    "1. Generate images by generative_model\n",
    "2. Train(update) adversarial_model by new generated images and real ones\n",
    "3. Update GAN (with adversarial frozen) with NOISE and REAL_IMAGE_LABELS\n",
    "\n",
    "To do so, we need to make the adversarial_model trainable during its own update and non_trainable when used within GAN. This can be done by setting the layers (or model's) traiable parameter to False. I am still puzzled by the usage of it, so will stick with the old way - excplitly turning off and on trainable parameters every time. See [#3881](https://github.com/fchollet/keras/issues/3881) for details"
   ]
  },
  {
   "cell_type": "code",
   "execution_count": 16,
   "metadata": {
    "collapsed": true
   },
   "outputs": [],
   "source": [
    "## helper functions\n",
    "\n",
    "def real_image_generator(size=64):\n",
    "    (train_x, train_y), (test_x, test_y) = mnist.load_data()\n",
    "    real_images = np.concatenate([train_x, test_x], axis=0)\n",
    "    real_images = np.expand_dims(real_images, axis = 1).astype(np.float32)\n",
    "    real_images = real_images / 255.\n",
    "    N = real_images.shape[0]\n",
    "    while True:\n",
    "        i = np.random.randint(0, N, size)\n",
    "        yield real_images[i,...]\n",
    "        \n",
    "def noise_generator(size=64):\n",
    "    while True:\n",
    "        seeds = np.random.uniform(0, 1, size=(size, 100)).astype(np.float32)\n",
    "        yield seeds\n",
    "        \n",
    "def fake_image_generator(size=64):\n",
    "    noise = noise_generator(size)\n",
    "    while True:\n",
    "        seeds = noise.next()\n",
    "        fake_images = generative_model.predict(seeds)\n",
    "        yield fake_images\n",
    "        \n",
    "def make_adversarial_data(real_images, faked_images):\n",
    "    images = np.concatenate([real_images, faked_images], axis=0)\n",
    "    labels = np.ones(images.shape[0])\n",
    "    labels[real_images.shape[0]:] = 0\n",
    "    labels = labels.reshape((-1, 1)).astype(np.float32)\n",
    "    #labels = to_categorical(labels)\n",
    "    images, labels = shuffle(images, labels)\n",
    "    return images, labels\n",
    "\n",
    "def make_gan_data(noise):\n",
    "    labels = np.ones(noise.shape[0]).astype(np.float32)\n",
    "    #labels = to_categorical(labels)\n",
    "    labels = labels.reshape((-1, 1))\n",
    "    noise, labels = shuffle(noise, labels)\n",
    "    return noise, labels"
   ]
  },
  {
   "cell_type": "code",
   "execution_count": 17,
   "metadata": {
    "collapsed": false
   },
   "outputs": [
    {
     "name": "stdout",
     "output_type": "stream",
     "text": [
      "Epoch 1/3\n",
      "32/32 [==============================] - 0s - loss: 6.9822\n",
      "Epoch 2/3\n",
      "32/32 [==============================] - 0s - loss: 0.8618\n",
      "Epoch 3/3\n",
      "32/32 [==============================] - 0s - loss: 0.1234\n"
     ]
    },
    {
     "data": {
      "text/plain": [
       "<keras.callbacks.History at 0x7f86654f6ad0>"
      ]
     },
     "execution_count": 17,
     "metadata": {},
     "output_type": "execute_result"
    }
   ],
   "source": [
    "## test gan trainable\n",
    "noise = noise_generator(32).next()\n",
    "x, y = make_gan_data(noise)\n",
    "#y = np.zeros_like(y)\n",
    "\n",
    "#toggle_trainable(adversarial_model, False)\n",
    "gan_model.fit(x, y, nb_epoch=3)"
   ]
  },
  {
   "cell_type": "code",
   "execution_count": 18,
   "metadata": {
    "collapsed": false
   },
   "outputs": [],
   "source": [
    "## test real_image generator\n",
    "reals = real_image_generator().next()\n",
    "assert reals.shape == (64, 1, 28, 28)\n",
    "assert np.all(reals >= 0.) and np.all(reals <= 1.0)\n",
    "\n",
    "## test fake_image generator\n",
    "fakes = fake_image_generator().next()\n",
    "assert fakes.shape == (64, 1, 28, 28)\n",
    "assert np.all(fakes >= 0.) and np.all(fakes <= 1.0)\n",
    "\n",
    "## test make_adversarial_data\n",
    "imgs, labls = make_adversarial_data(reals, fakes)\n",
    "assert imgs.shape == (128, 1, 28, 28)\n",
    "assert labls.shape == (128, 1)\n",
    "assert np.all((labls == 0) | (labls == 1))\n",
    "\n",
    "## test make_gae_data\n",
    "noise = noise_generator().next()\n",
    "noise, labls = make_gan_data(noise)\n",
    "assert noise.shape == (64, 100)\n",
    "assert labls.shape == (64, 1)\n",
    "assert np.all(labls == 1) # fake it as real"
   ]
  },
  {
   "cell_type": "code",
   "execution_count": null,
   "metadata": {
    "collapsed": true
   },
   "outputs": [],
   "source": []
  },
  {
   "cell_type": "code",
   "execution_count": 19,
   "metadata": {
    "collapsed": true
   },
   "outputs": [],
   "source": [
    "gan_logs, adversarial_logs = [], []\n",
    "\n",
    "def plot_loss(losses):\n",
    "    plt.figure(figsize=(4, 4))\n",
    "    for name, values in losses.items():\n",
    "        plt.plot(values, label = name)\n",
    "    plt.legend(loc=\"best\")\n",
    "    plt.show()\n",
    "    \n",
    "def plot_generated():\n",
    "    noise = np.random.uniform(0,1,size=[9,100])\n",
    "    generated_images = generative_model.predict(noise)\n",
    "    \n",
    "    fig, axes = plt.subplots(3, 3, figsize=(3, 3))\n",
    "    axes = axes.ravel()\n",
    "    for ax, img in zip(axes, generated_images):\n",
    "        ax.imshow(img[0, :, :], cmap = plt.cm.gray)\n",
    "        ax.axis('off')\n",
    "    plt.tight_layout()\n",
    "    plt.show()"
   ]
  },
  {
   "cell_type": "code",
   "execution_count": 247,
   "metadata": {
    "collapsed": false
   },
   "outputs": [
    {
     "data": {
      "text/plain": [
       "<matplotlib.figure.Figure at 0x7f865b834a90>"
      ]
     },
     "metadata": {},
     "output_type": "display_data"
    },
    {
     "data": {
      "text/plain": [
       "<matplotlib.figure.Figure at 0x7f865b834a90>"
      ]
     },
     "metadata": {},
     "output_type": "display_data"
    },
    {
     "data": {
      "image/png": "[encoded data removed]",
      "text/plain": [
       "<matplotlib.figure.Figure at 0x7f86462730d0>"
      ]
     },
     "metadata": {},
     "output_type": "display_data"
    },
    {
     "data": {
      "image/png": "[encoded data removed]",
      "text/plain": [
       "<matplotlib.figure.Figure at 0x7f8634fdcd50>"
      ]
     },
     "metadata": {},
     "output_type": "display_data"
    },
    {
     "name": "stderr",
     "output_type": "stream",
     "text": [
      "100%|██████████| 2000/2000 [16:18<00:00,  2.48it/s]\n"
     ]
    }
   ],
   "source": [
    "nb_epoch = 2000\n",
    "batch_size = 64\n",
    "\n",
    "g_real_images = real_image_generator(size=batch_size)\n",
    "g_fake_images = fake_image_generator(size=batch_size)\n",
    "g_noise = noise_generator(size=batch_size)\n",
    "\n",
    "for i in tqdm.tqdm(range(nb_epoch)):\n",
    "    \n",
    "    # train adversarial_model\n",
    "    \n",
    "    #toggle_trainable(adversarial_model, True)\n",
    "    real_images = g_real_images.next()\n",
    "    fake_images = g_fake_images.next()\n",
    "    x, y = make_adversarial_data(real_images, fake_images)\n",
    "    \n",
    "    a_loss = adversarial_model.train_on_batch(x, y)\n",
    "    adversarial_logs.append(a_loss)\n",
    "    \n",
    "    # train GAN\n",
    "    #toggle_trainable(adversarial_model, False)\n",
    "    noise = g_noise.next()\n",
    "    x, y = make_gan_data(noise)\n",
    "    \n",
    "    g_loss = gan_model.train_on_batch(x, y)\n",
    "    gan_logs.append(g_loss)\n",
    "    \n",
    "    if i % 25 == 0:\n",
    "        display.clear_output(wait=True)\n",
    "        display.display(plt.gcf())\n",
    "        plot_loss({\"gan\": gan_logs\n",
    "                  , \"adv\": adversarial_logs})\n",
    "        plot_generated()"
   ]
  },
  {
   "cell_type": "code",
   "execution_count": 250,
   "metadata": {
    "collapsed": false
   },
   "outputs": [
    {
     "data": {
      "image/png": "[encoded data removed]",
      "text/plain": [
       "<matplotlib.figure.Figure at 0x7f864c39e2d0>"
      ]
     },
     "metadata": {},
     "output_type": "display_data"
    }
   ],
   "source": [
    "plot_generated()"
   ]
  },
  {
   "cell_type": "markdown",
   "metadata": {
    "collapsed": true
   },
   "source": [
    "## Some Observations:\n",
    "1. Never overfit the adversarial model, because it seems that once it is overfitted, it will be very hard for generative model to learn anything on new cases - the gradient won't propagate? \n",
    "2. It is important to pick a balance between the learning rates between the generative and adverserial models. e.g.,\n",
    "    - if generative is not learning as fast as adversrial, its error will increase a lot, speically at the beginning, which heavily decrease the convergence rate (or never converge at all)\n",
    "    - if adversirial learning rate is too slow, it might be fooled easily by the generative model, which terminates the learning early and generates unsatisactory results \n",
    "3. It seems that the exact models used are less critical"
   ]
  },
  {
   "cell_type": "code",
   "execution_count": null,
   "metadata": {
    "collapsed": true
   },
   "outputs": [],
   "source": []
  }
 ],
 "metadata": {
  "kernelspec": {
   "display_name": "Python 2",
   "language": "python",
   "name": "python2"
  },
  "language_info": {
   "codemirror_mode": {
    "name": "ipython",
    "version": 2
   },
   "file_extension": ".py",
   "mimetype": "text/x-python",
   "name": "python",
   "nbconvert_exporter": "python",
   "pygments_lexer": "ipython2",
   "version": "2.7.6"
  }
 },
 "nbformat": 4,
 "nbformat_minor": 1
}
