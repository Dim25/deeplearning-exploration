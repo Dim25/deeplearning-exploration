{
 "cells": [
  {
   "cell_type": "markdown",
   "metadata": {},
   "source": [
    "# To figure out how Deconvolution and Unpooling work\n",
    "\n",
    "## 1. Resources\n",
    "- It seems that Deconvolution & Unpooling has been mentioned staring from this [paper](http://www.matthewzeiler.com/pubs/cvpr2010/cvpr2010.pdf) and this [paper](http://www.matthewzeiler.com/pubs/iccv2011/iccv2011.pdf), in a context of being used as a convolutioal sparse encoding to learn filters and feature maps. The idea is similiar to encoding of an autoencoder. This [thread](https://www.quora.com/How-does-a-deconvolutional-neural-network-work) has a good discussion.\n",
    "- Then it has been discussed as a way of mapping back feature maps to origina image spaces in these papers: [1](https://arxiv.org/abs/1311.2901), [2](https://people.eecs.berkeley.edu/~jonlong/long_shelhamer_fcn.pdf), [3](http://arxiv.org/abs/1505.04366) and [4](https://arxiv.org/pdf/1511.06434.pdf).\n",
    "- Two useful resources on the mathematical definitions of these operations are \n",
    "    - [torch documentation](https://github.com/torch/nn/blob/master/doc/convolution.md#spatialmaxunpooling)\n",
    "    - [PRMLSS slides](http://aisociety.kr/prml/PRMLSS_2015_deconvolution.pdf)\n",
    "    - [stackoverflow page](http://datascience.stackexchange.com/q/6107/8820)\n",
    "- Implementations in different libraries\n",
    "    - [theano deconvolution](https://github.com/Theano/Theano/pull/3872)\n",
    "    - [tensorflow deconvolution](https://github.com/tensorflow/tensorflow/issues/256)\n",
    "    - [tensorflow unpooling](https://github.com/tensorflow/tensorflow/issues/2169)\n",
    "    - [caffe unpooling](https://github.com/BVLC/caffe/pull/2561)\n",
    "    - keras: has deconvolution implementation which is consistent with tf and th. But not an unpooling that uses a switch variable."
   ]
  },
  {
   "cell_type": "code",
   "execution_count": null,
   "metadata": {
    "collapsed": true
   },
   "outputs": [],
   "source": []
  }
 ],
 "metadata": {
  "kernelspec": {
   "display_name": "Python 2",
   "language": "python",
   "name": "python2"
  },
  "language_info": {
   "codemirror_mode": {
    "name": "ipython",
    "version": 2
   },
   "file_extension": ".py",
   "mimetype": "text/x-python",
   "name": "python",
   "nbconvert_exporter": "python",
   "pygments_lexer": "ipython2",
   "version": "2.7.6"
  }
 },
 "nbformat": 4,
 "nbformat_minor": 1
}
