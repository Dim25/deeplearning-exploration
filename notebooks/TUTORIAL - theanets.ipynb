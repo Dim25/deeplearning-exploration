{
 "cells": [
  {
   "cell_type": "markdown",
   "metadata": {},
   "source": [
    "## Theanets\n",
    "- [main site](http://theanets.readthedocs.org/en/stable/quickstart.html)\n",
    "- [git repository](https://github.com/lmjohns3/theanets)\n",
    "\n",
    "The library implementation and its documents are both elegant and detailed. Please read the online tutorial by [Leif Johnson](http://lmjohns3.com/) if you need to learn the package. I will just try to put some notes here from my learning experience"
   ]
  },
  {
   "cell_type": "code",
   "execution_count": 1,
   "metadata": {
    "collapsed": false
   },
   "outputs": [
    {
     "name": "stdout",
     "output_type": "stream",
     "text": [
      "Couldn't import dot_parser, loading of dot files will not be possible.\n"
     ]
    }
   ],
   "source": [
    "import theanets"
   ]
  },
  {
   "cell_type": "markdown",
   "metadata": {},
   "source": [
    "### main steps in typical workflow\n",
    "1. Create a Network Layout\n",
    "2. Train the Network on Data\n",
    "3. Use the network to make prediction\n",
    "\n",
    "Typical Usage of the above steps is (http://theanets.readthedocs.org/en/stable/index.html)\n",
    "```python\n",
    "import climate\n",
    "import theanets\n",
    "import my_data_set\n",
    "\n",
    "climate.enable_default_logging()\n",
    "\n",
    "exp = theanets.Experiment(\n",
    "    theanets.Classifier,\n",
    "    layers=(100, 200, 100, 10),\n",
    ")\n",
    "\n",
    "exp.train(\n",
    "    my_data_set.training_data,\n",
    "    my_data_set.validation_data,\n",
    "    optimize='sgd',\n",
    "    learning_rate=0.01,\n",
    "    momentum=0.5,\n",
    "    hidden_l1=0.1,\n",
    ")\n",
    "\n",
    "exp.network.predict(my_data_set.test_data)\n",
    "```"
   ]
  },
  {
   "cell_type": "markdown",
   "metadata": {},
   "source": [
    "### Examples of Classifying MNIST"
   ]
  },
  {
   "cell_type": "code",
   "execution_count": 10,
   "metadata": {
    "collapsed": false
   },
   "outputs": [],
   "source": [
    "import cPickle\n",
    "import numpy as np\n",
    "(train_X, train_y), (valid_X, valid_y), (test_X, test_y) = cPickle.load(open(\"../data/mnist.pkl\"))\n",
    "train_mnist = (train_X, train_y.astype(np.int32))\n",
    "valid_mnist = (valid_X, valid_y.astype(np.int32))\n",
    "test_mnist = (test_X, test_y.astype(np.int32))"
   ]
  },
  {
   "cell_type": "code",
   "execution_count": 22,
   "metadata": {
    "collapsed": false
   },
   "outputs": [
    {
     "name": "stderr",
     "output_type": "stream",
     "text": [
      "INFO:theanets.layers:layer hid1: 784 -> 100, logistic, 78500 parameters\n"
     ]
    },
    {
     "name": "stdout",
     "output_type": "stream",
     "text": [
      "I 2015-04-28 15:03:59 theanets.layers:377 layer hid1: 784 -> 100, logistic, 78500 parameters\n"
     ]
    },
    {
     "name": "stderr",
     "output_type": "stream",
     "text": [
      "INFO:theanets.layers:layer out: 100 -> 10, softmax, 1010 parameters\n"
     ]
    },
    {
     "name": "stdout",
     "output_type": "stream",
     "text": [
      "I 2015-04-28 15:03:59 theanets.layers:377 layer out: 100 -> 10, softmax, 1010 parameters\n"
     ]
    },
    {
     "name": "stderr",
     "output_type": "stream",
     "text": [
      "INFO:theanets.dataset:valid: 157 of 157 mini-batches of (64, 784) -> (64,)\n"
     ]
    },
    {
     "name": "stdout",
     "output_type": "stream",
     "text": [
      "I 2015-04-28 15:03:59 theanets.dataset:166 valid: 157 of 157 mini-batches of (64, 784) -> (64,)\n"
     ]
    },
    {
     "name": "stderr",
     "output_type": "stream",
     "text": [
      "INFO:theanets.dataset:train: 782 of 782 mini-batches of (64, 784) -> (64,)\n"
     ]
    },
    {
     "name": "stdout",
     "output_type": "stream",
     "text": [
      "I 2015-04-28 15:03:59 theanets.dataset:166 train: 782 of 782 mini-batches of (64, 784) -> (64,)\n"
     ]
    },
    {
     "name": "stderr",
     "output_type": "stream",
     "text": [
      "INFO:theanets.main:creating trainer <class 'theanets.trainer.SGD'>\n"
     ]
    },
    {
     "name": "stdout",
     "output_type": "stream",
     "text": [
      "I 2015-04-28 15:03:59 theanets.main:201 creating trainer <class 'theanets.trainer.SGD'>\n"
     ]
    },
    {
     "name": "stderr",
     "output_type": "stream",
     "text": [
      "INFO:theanets.main:--batch_size = 64\n"
     ]
    },
    {
     "name": "stdout",
     "output_type": "stream",
     "text": [
      "I 2015-04-28 15:03:59 theanets.main:203 --batch_size = 64\n"
     ]
    },
    {
     "name": "stderr",
     "output_type": "stream",
     "text": [
      "INFO:theanets.main:--cg_batches = None\n"
     ]
    },
    {
     "name": "stdout",
     "output_type": "stream",
     "text": [
      "I 2015-04-28 15:03:59 theanets.main:203 --cg_batches = None\n"
     ]
    },
    {
     "name": "stderr",
     "output_type": "stream",
     "text": [
      "INFO:theanets.main:--contractive = 0\n"
     ]
    },
    {
     "name": "stdout",
     "output_type": "stream",
     "text": [
      "I 2015-04-28 15:03:59 theanets.main:203 --contractive = 0\n"
     ]
    },
    {
     "name": "stderr",
     "output_type": "stream",
     "text": [
      "INFO:theanets.main:--decode_from = 1\n"
     ]
    },
    {
     "name": "stdout",
     "output_type": "stream",
     "text": [
      "I 2015-04-28 15:03:59 theanets.main:203 --decode_from = 1\n"
     ]
    },
    {
     "name": "stderr",
     "output_type": "stream",
     "text": [
      "INFO:theanets.main:--global_backtracking = False\n"
     ]
    },
    {
     "name": "stdout",
     "output_type": "stream",
     "text": [
      "I 2015-04-28 15:03:59 theanets.main:203 --global_backtracking = False\n"
     ]
    },
    {
     "name": "stderr",
     "output_type": "stream",
     "text": [
      "INFO:theanets.main:--help_activation = False\n"
     ]
    },
    {
     "name": "stdout",
     "output_type": "stream",
     "text": [
      "I 2015-04-28 15:03:59 theanets.main:203 --help_activation = False\n"
     ]
    },
    {
     "name": "stderr",
     "output_type": "stream",
     "text": [
      "INFO:theanets.main:--help_optimize = False\n"
     ]
    },
    {
     "name": "stdout",
     "output_type": "stream",
     "text": [
      "I 2015-04-28 15:03:59 theanets.main:203 --help_optimize = False\n"
     ]
    },
    {
     "name": "stderr",
     "output_type": "stream",
     "text": [
      "INFO:theanets.main:--hidden_activation = logistic\n"
     ]
    },
    {
     "name": "stdout",
     "output_type": "stream",
     "text": [
      "I 2015-04-28 15:03:59 theanets.main:203 --hidden_activation = logistic\n"
     ]
    },
    {
     "name": "stderr",
     "output_type": "stream",
     "text": [
      "INFO:theanets.main:--hidden_dropouts = 0\n"
     ]
    },
    {
     "name": "stdout",
     "output_type": "stream",
     "text": [
      "I 2015-04-28 15:03:59 theanets.main:203 --hidden_dropouts = 0\n"
     ]
    },
    {
     "name": "stderr",
     "output_type": "stream",
     "text": [
      "INFO:theanets.main:--hidden_l1 = 0\n"
     ]
    },
    {
     "name": "stdout",
     "output_type": "stream",
     "text": [
      "I 2015-04-28 15:03:59 theanets.main:203 --hidden_l1 = 0\n"
     ]
    },
    {
     "name": "stderr",
     "output_type": "stream",
     "text": [
      "INFO:theanets.main:--hidden_l2 = 0\n"
     ]
    },
    {
     "name": "stdout",
     "output_type": "stream",
     "text": [
      "I 2015-04-28 15:03:59 theanets.main:203 --hidden_l2 = 0\n"
     ]
    },
    {
     "name": "stderr",
     "output_type": "stream",
     "text": [
      "INFO:theanets.main:--hidden_noise = 0\n"
     ]
    },
    {
     "name": "stdout",
     "output_type": "stream",
     "text": [
      "I 2015-04-28 15:03:59 theanets.main:203 --hidden_noise = 0\n"
     ]
    },
    {
     "name": "stderr",
     "output_type": "stream",
     "text": [
      "INFO:theanets.main:--initial_lambda = 1.0\n"
     ]
    },
    {
     "name": "stdout",
     "output_type": "stream",
     "text": [
      "I 2015-04-28 15:03:59 theanets.main:203 --initial_lambda = 1.0\n"
     ]
    },
    {
     "name": "stderr",
     "output_type": "stream",
     "text": [
      "INFO:theanets.main:--input_dropouts = 0\n"
     ]
    },
    {
     "name": "stdout",
     "output_type": "stream",
     "text": [
      "I 2015-04-28 15:03:59 theanets.main:203 --input_dropouts = 0\n"
     ]
    },
    {
     "name": "stderr",
     "output_type": "stream",
     "text": [
      "INFO:theanets.main:--input_noise = 0\n"
     ]
    },
    {
     "name": "stdout",
     "output_type": "stream",
     "text": [
      "I 2015-04-28 15:03:59 theanets.main:203 --input_noise = 0\n"
     ]
    },
    {
     "name": "stderr",
     "output_type": "stream",
     "text": [
      "INFO:theanets.main:--layers = (784, 100, 10)\n"
     ]
    },
    {
     "name": "stdout",
     "output_type": "stream",
     "text": [
      "I 2015-04-28 15:03:59 theanets.main:203 --layers = (784, 100, 10)\n"
     ]
    },
    {
     "name": "stderr",
     "output_type": "stream",
     "text": [
      "INFO:theanets.main:--learning_rate = 0.01\n"
     ]
    },
    {
     "name": "stdout",
     "output_type": "stream",
     "text": [
      "I 2015-04-28 15:03:59 theanets.main:203 --learning_rate = 0.01\n"
     ]
    },
    {
     "name": "stderr",
     "output_type": "stream",
     "text": [
      "INFO:theanets.main:--max_gradient_norm = 1000000.0\n"
     ]
    },
    {
     "name": "stdout",
     "output_type": "stream",
     "text": [
      "I 2015-04-28 15:03:59 theanets.main:203 --max_gradient_norm = 1000000.0\n"
     ]
    },
    {
     "name": "stderr",
     "output_type": "stream",
     "text": [
      "INFO:theanets.main:--min_improvement = 0.01\n"
     ]
    },
    {
     "name": "stdout",
     "output_type": "stream",
     "text": [
      "I 2015-04-28 15:03:59 theanets.main:203 --min_improvement = 0.01\n"
     ]
    },
    {
     "name": "stderr",
     "output_type": "stream",
     "text": [
      "INFO:theanets.main:--momentum = 0.9\n"
     ]
    },
    {
     "name": "stdout",
     "output_type": "stream",
     "text": [
      "I 2015-04-28 15:03:59 theanets.main:203 --momentum = 0.9\n"
     ]
    },
    {
     "name": "stderr",
     "output_type": "stream",
     "text": [
      "INFO:theanets.main:--optimize = ()\n"
     ]
    },
    {
     "name": "stdout",
     "output_type": "stream",
     "text": [
      "I 2015-04-28 15:03:59 theanets.main:203 --optimize = ()\n"
     ]
    },
    {
     "name": "stderr",
     "output_type": "stream",
     "text": [
      "INFO:theanets.main:--output_activation = linear\n"
     ]
    },
    {
     "name": "stdout",
     "output_type": "stream",
     "text": [
      "I 2015-04-28 15:03:59 theanets.main:203 --output_activation = linear\n"
     ]
    },
    {
     "name": "stderr",
     "output_type": "stream",
     "text": [
      "INFO:theanets.main:--patience = 4\n"
     ]
    },
    {
     "name": "stdout",
     "output_type": "stream",
     "text": [
      "I 2015-04-28 15:03:59 theanets.main:203 --patience = 4\n"
     ]
    },
    {
     "name": "stderr",
     "output_type": "stream",
     "text": [
      "INFO:theanets.main:--preconditioner = False\n"
     ]
    },
    {
     "name": "stdout",
     "output_type": "stream",
     "text": [
      "I 2015-04-28 15:03:59 theanets.main:203 --preconditioner = False\n"
     ]
    },
    {
     "name": "stderr",
     "output_type": "stream",
     "text": [
      "INFO:theanets.main:--rms_halflife = 7\n"
     ]
    },
    {
     "name": "stdout",
     "output_type": "stream",
     "text": [
      "I 2015-04-28 15:03:59 theanets.main:203 --rms_halflife = 7\n"
     ]
    },
    {
     "name": "stderr",
     "output_type": "stream",
     "text": [
      "INFO:theanets.main:--rprop_decrease = 0.99\n"
     ]
    },
    {
     "name": "stdout",
     "output_type": "stream",
     "text": [
      "I 2015-04-28 15:03:59 theanets.main:203 --rprop_decrease = 0.99\n"
     ]
    },
    {
     "name": "stderr",
     "output_type": "stream",
     "text": [
      "INFO:theanets.main:--rprop_increase = 1.01\n"
     ]
    },
    {
     "name": "stdout",
     "output_type": "stream",
     "text": [
      "I 2015-04-28 15:03:59 theanets.main:203 --rprop_increase = 1.01\n"
     ]
    },
    {
     "name": "stderr",
     "output_type": "stream",
     "text": [
      "INFO:theanets.main:--rprop_max_step = 1.0\n"
     ]
    },
    {
     "name": "stdout",
     "output_type": "stream",
     "text": [
      "I 2015-04-28 15:03:59 theanets.main:203 --rprop_max_step = 1.0\n"
     ]
    },
    {
     "name": "stderr",
     "output_type": "stream",
     "text": [
      "INFO:theanets.main:--rprop_min_step = 0.0\n"
     ]
    },
    {
     "name": "stdout",
     "output_type": "stream",
     "text": [
      "I 2015-04-28 15:03:59 theanets.main:203 --rprop_min_step = 0.0\n"
     ]
    },
    {
     "name": "stderr",
     "output_type": "stream",
     "text": [
      "INFO:theanets.main:--save_every = 0\n"
     ]
    },
    {
     "name": "stdout",
     "output_type": "stream",
     "text": [
      "I 2015-04-28 15:03:59 theanets.main:203 --save_every = 0\n"
     ]
    },
    {
     "name": "stderr",
     "output_type": "stream",
     "text": [
      "INFO:theanets.main:--save_progress = None\n"
     ]
    },
    {
     "name": "stdout",
     "output_type": "stream",
     "text": [
      "I 2015-04-28 15:03:59 theanets.main:203 --save_progress = None\n"
     ]
    },
    {
     "name": "stderr",
     "output_type": "stream",
     "text": [
      "INFO:theanets.main:--tied_weights = False\n"
     ]
    },
    {
     "name": "stdout",
     "output_type": "stream",
     "text": [
      "I 2015-04-28 15:03:59 theanets.main:203 --tied_weights = False\n"
     ]
    },
    {
     "name": "stderr",
     "output_type": "stream",
     "text": [
      "INFO:theanets.main:--train_batches = None\n"
     ]
    },
    {
     "name": "stdout",
     "output_type": "stream",
     "text": [
      "I 2015-04-28 15:03:59 theanets.main:203 --train_batches = None\n"
     ]
    },
    {
     "name": "stderr",
     "output_type": "stream",
     "text": [
      "INFO:theanets.main:--valid_batches = None\n"
     ]
    },
    {
     "name": "stdout",
     "output_type": "stream",
     "text": [
      "I 2015-04-28 15:03:59 theanets.main:203 --valid_batches = None\n"
     ]
    },
    {
     "name": "stderr",
     "output_type": "stream",
     "text": [
      "INFO:theanets.main:--validate_every = 10\n"
     ]
    },
    {
     "name": "stdout",
     "output_type": "stream",
     "text": [
      "I 2015-04-28 15:03:59 theanets.main:203 --validate_every = 10\n"
     ]
    },
    {
     "name": "stderr",
     "output_type": "stream",
     "text": [
      "INFO:theanets.main:--weight_l1 = 0\n"
     ]
    },
    {
     "name": "stdout",
     "output_type": "stream",
     "text": [
      "I 2015-04-28 15:03:59 theanets.main:203 --weight_l1 = 0\n"
     ]
    },
    {
     "name": "stderr",
     "output_type": "stream",
     "text": [
      "INFO:theanets.main:--weight_l2 = 0\n"
     ]
    },
    {
     "name": "stdout",
     "output_type": "stream",
     "text": [
      "I 2015-04-28 15:03:59 theanets.main:203 --weight_l2 = 0\n"
     ]
    },
    {
     "name": "stderr",
     "output_type": "stream",
     "text": [
      "INFO:theanets.trainer:compiling evaluation function\n"
     ]
    },
    {
     "name": "stdout",
     "output_type": "stream",
     "text": [
      "I 2015-04-28 15:03:59 theanets.trainer:130 compiling evaluation function\n"
     ]
    },
    {
     "name": "stderr",
     "output_type": "stream",
     "text": [
      "INFO:theanets.trainer:compiling SGD learning function\n"
     ]
    },
    {
     "name": "stdout",
     "output_type": "stream",
     "text": [
      "I 2015-04-28 15:03:59 theanets.trainer:297 compiling SGD learning function\n"
     ]
    },
    {
     "name": "stderr",
     "output_type": "stream",
     "text": [
      "INFO:theanets.trainer:validation 0 loss=2.682337 err=2.68 hid1<0.1=3.0 hid1<0.9=99.1 out<0.1=62.3 out<0.9=100.0 acc=10.05 *\n"
     ]
    },
    {
     "name": "stdout",
     "output_type": "stream",
     "text": [
      "I 2015-04-28 15:04:00 theanets.trainer:170 validation 0 loss=2.682337 err=2.68 hid1<0.1=3.0 hid1<0.9=99.1 out<0.1=62.3 out<0.9=100.0 acc=10.05 *\n"
     ]
    },
    {
     "name": "stderr",
     "output_type": "stream",
     "text": [
      "INFO:theanets.trainer:SGD 1 loss=0.956847 err=0.96 hid1<0.1=3.4 hid1<0.9=97.8 out<0.1=74.2 out<0.9=98.8 acc=76.71\n"
     ]
    },
    {
     "name": "stdout",
     "output_type": "stream",
     "text": [
      "I 2015-04-28 15:04:02 theanets.trainer:170 SGD 1 loss=0.956847 err=0.96 hid1<0.1=3.4 hid1<0.9=97.8 out<0.1=74.2 out<0.9=98.8 acc=76.71\n"
     ]
    },
    {
     "name": "stderr",
     "output_type": "stream",
     "text": [
      "INFO:theanets.trainer:SGD 2 loss=0.394413 err=0.39 hid1<0.1=6.5 hid1<0.9=94.9 out<0.1=84.7 out<0.9=95.3 acc=89.18\n"
     ]
    },
    {
     "name": "stdout",
     "output_type": "stream",
     "text": [
      "I 2015-04-28 15:04:04 theanets.trainer:170 SGD 2 loss=0.394413 err=0.39 hid1<0.1=6.5 hid1<0.9=94.9 out<0.1=84.7 out<0.9=95.3 acc=89.18\n"
     ]
    },
    {
     "name": "stderr",
     "output_type": "stream",
     "text": [
      "INFO:theanets.trainer:SGD 3 loss=0.330910 err=0.33 hid1<0.1=8.2 hid1<0.9=93.5 out<0.1=86.1 out<0.9=94.0 acc=90.45\n"
     ]
    },
    {
     "name": "stdout",
     "output_type": "stream",
     "text": [
      "I 2015-04-28 15:04:05 theanets.trainer:170 SGD 3 loss=0.330910 err=0.33 hid1<0.1=8.2 hid1<0.9=93.5 out<0.1=86.1 out<0.9=94.0 acc=90.45\n"
     ]
    },
    {
     "name": "stderr",
     "output_type": "stream",
     "text": [
      "INFO:theanets.trainer:SGD 4 loss=0.300636 err=0.30 hid1<0.1=9.7 hid1<0.9=92.7 out<0.1=86.6 out<0.9=93.5 acc=91.29\n"
     ]
    },
    {
     "name": "stdout",
     "output_type": "stream",
     "text": [
      "I 2015-04-28 15:04:07 theanets.trainer:170 SGD 4 loss=0.300636 err=0.30 hid1<0.1=9.7 hid1<0.9=92.7 out<0.1=86.6 out<0.9=93.5 acc=91.29\n"
     ]
    },
    {
     "name": "stderr",
     "output_type": "stream",
     "text": [
      "INFO:theanets.trainer:SGD 5 loss=0.279357 err=0.28 hid1<0.1=11.2 hid1<0.9=91.8 out<0.1=86.9 out<0.9=93.1 acc=91.92\n"
     ]
    },
    {
     "name": "stdout",
     "output_type": "stream",
     "text": [
      "I 2015-04-28 15:04:09 theanets.trainer:170 SGD 5 loss=0.279357 err=0.28 hid1<0.1=11.2 hid1<0.9=91.8 out<0.1=86.9 out<0.9=93.1 acc=91.92\n"
     ]
    },
    {
     "name": "stderr",
     "output_type": "stream",
     "text": [
      "INFO:theanets.trainer:interrupted!\n"
     ]
    },
    {
     "name": "stdout",
     "output_type": "stream",
     "text": [
      "I 2015-04-28 15:04:10 theanets.trainer:259 interrupted!\n",
      "CPU times: user 11 s, sys: 33.6 ms, total: 11.1 s\n",
      "Wall time: 11.1 s\n"
     ]
    },
    {
     "data": {
      "text/plain": [
       "(OrderedDict([('loss', 0.27935701584927486), ('err', 0.27935701584927486), ('hid1<0.1', 11.19267503196931), ('hid1<0.9', 91.770959878516621), ('out<0.1', 86.940537084398983), ('out<0.9', 93.13598945012788), ('acc', 91.923753196930946)]),\n",
       " OrderedDict([('loss', 2.6823372090229118), ('err', 2.6823372090229118), ('hid1<0.1', 3.0099522292993632), ('hid1<0.9', 99.133658439490446), ('out<0.1', 62.269108280254777), ('out<0.9', 100.0), ('acc', 10.051751592356688)]))"
      ]
     },
     "execution_count": 22,
     "metadata": {},
     "output_type": "execute_result"
    }
   ],
   "source": [
    "\n",
    "## you can stop it at anytime!! \n",
    "exp = theanets.Experiment(theanets.Classifier, layers = (28*28, 100, 10))\n",
    "%time exp.train(train_mnist, valid_mnist, optimize = \"sgd\", learning_rate = 0.01)"
   ]
  },
  {
   "cell_type": "code",
   "execution_count": 23,
   "metadata": {
    "collapsed": false
   },
   "outputs": [
    {
     "data": {
      "text/plain": [
       "0.096299999999999997"
      ]
     },
     "execution_count": 23,
     "metadata": {},
     "output_type": "execute_result"
    }
   ],
   "source": [
    "model = exp.network\n",
    "np.mean(np.argmax(model.predict(test_X), axis = 1) == test_y)"
   ]
  },
  {
   "cell_type": "code",
   "execution_count": 30,
   "metadata": {
    "collapsed": true
   },
   "outputs": [],
   "source": [
    "model.find??"
   ]
  },
  {
   "cell_type": "code",
   "execution_count": 35,
   "metadata": {
    "collapsed": false
   },
   "outputs": [
    {
     "name": "stdout",
     "output_type": "stream",
     "text": [
      "0 (784,)\n",
      "1 (784,)\n",
      "2 (784,)\n",
      "3 (784,)\n",
      "4 (784,)\n",
      "5 (784,)\n",
      "6 (784,)\n",
      "7 (784,)\n",
      "8 (784,)\n",
      "9 (784,)\n",
      "10 (784,)\n",
      "11 (784,)\n",
      "12 (784,)\n",
      "13 (784,)\n",
      "14 (784,)\n",
      "15 (784,)\n",
      "16 (784,)\n",
      "17 (784,)\n",
      "18 (784,)\n",
      "19 (784,)\n",
      "20 (784,)\n",
      "21 (784,)\n",
      "22 (784,)\n",
      "23 (784,)\n",
      "24 (784,)\n",
      "25 (784,)\n",
      "26 (784,)\n",
      "27 (784,)\n",
      "28 (784,)\n",
      "29 (784,)\n",
      "30 (784,)\n",
      "31 (784,)\n",
      "32 (784,)\n",
      "33 (784,)\n",
      "34 (784,)\n",
      "35 (784,)\n",
      "36 (784,)\n",
      "37 (784,)\n",
      "38 (784,)\n",
      "39 (784,)\n",
      "40 (784,)\n",
      "41 (784,)\n",
      "42 (784,)\n",
      "43 (784,)\n",
      "44 (784,)\n",
      "45 (784,)\n",
      "46 (784,)\n",
      "47 (784,)\n",
      "48 (784,)\n",
      "49 (784,)\n",
      "50 (784,)\n",
      "51 (784,)\n",
      "52 (784,)\n",
      "53 (784,)\n",
      "54 (784,)\n",
      "55 (784,)\n",
      "56 (784,)\n",
      "57 (784,)\n",
      "58 (784,)\n",
      "59 (784,)\n",
      "60 (784,)\n",
      "61 (784,)\n",
      "62 (784,)\n",
      "63 (784,)\n",
      "64 (784,)\n",
      "65 (784,)\n",
      "66 (784,)\n",
      "67 (784,)\n",
      "68 (784,)\n",
      "69 (784,)\n",
      "70 (784,)\n",
      "71 (784,)\n",
      "72 (784,)\n",
      "73 (784,)\n",
      "74 (784,)\n",
      "75 (784,)\n",
      "76 (784,)\n",
      "77 (784,)\n",
      "78 (784,)\n",
      "79 (784,)\n",
      "80 (784,)\n",
      "81 (784,)\n",
      "82 (784,)\n",
      "83 (784,)\n",
      "84 (784,)\n",
      "85 (784,)\n",
      "86 (784,)\n",
      "87 (784,)\n",
      "88 (784,)\n",
      "89 (784,)\n",
      "90 (784,)\n",
      "91 (784,)\n",
      "92 (784,)\n",
      "93 (784,)\n",
      "94 (784,)\n",
      "95 (784,)\n",
      "96 (784,)\n",
      "97 (784,)\n",
      "98 (784,)\n",
      "99 (784,)\n"
     ]
    }
   ],
   "source": [
    "for i, px in enumerate(model.find(1, 0).get_value().T):\n",
    "    print i, px.shape"
   ]
  },
  {
   "cell_type": "code",
   "execution_count": 45,
   "metadata": {
    "collapsed": false
   },
   "outputs": [
    {
     "data": {
      "text/plain": [
       "(100,)"
      ]
     },
     "execution_count": 45,
     "metadata": {},
     "output_type": "execute_result"
    }
   ],
   "source": [
    "model.find(1, 1).get_value().shape"
   ]
  },
  {
   "cell_type": "code",
   "execution_count": null,
   "metadata": {
    "collapsed": true
   },
   "outputs": [],
   "source": []
  }
 ],
 "metadata": {
  "kernelspec": {
   "display_name": "Python 2",
   "language": "python",
   "name": "python2"
  },
  "language_info": {
   "codemirror_mode": {
    "name": "ipython",
    "version": 2
   },
   "file_extension": ".py",
   "mimetype": "text/x-python",
   "name": "python",
   "nbconvert_exporter": "python",
   "pygments_lexer": "ipython2",
   "version": "2.7.6"
  }
 },
 "nbformat": 4,
 "nbformat_minor": 0
}
